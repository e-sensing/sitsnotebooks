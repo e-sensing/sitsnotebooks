{
 "cells": [
  {
   "cell_type": "markdown",
   "id": "smart-alloy",
   "metadata": {},
   "source": [
    "<img src=\"https://raw.githubusercontent.com/brazil-data-cube/code-gallery/master/img/logo-bdc.png\" align=\"right\" width=\"64\"/>\n",
    "\n",
    "# <span style=\"color: #336699\">Land use and land cover classification in the Brazilian Cerrado biome using Brazil Data Cube</span>\n",
    "<hr style=\"border:2px solid #0077b9;\">\n",
    "\n",
    "<br/>\n",
    "\n",
    "<div style=\"text-align: center;font-size: 90%;\">\n",
    "    Rolf E. O. Simões <sup><a href=\"mailto:rolf.simoes@inpe.br\"><i class=\"far fa-lg fa-envelope\"></i></a> <a href=\"https://orcid.org/0000-0003-0953-4132\"><i class=\"fab fa-lg fa-orcid\" style=\"color: #a6ce39\"></i></a></sup>, Alber H. Sanchez <sup><a href=\"mailto:alber.ipia@inpe.br\"><i class=\"far fa-lg fa-envelope\"></i></a> <a href=\"https://orcid.org/0000-0001-7966-2880\"><i class=\"fab fa-lg fa-orcid\" style=\"color: #a6ce39\"></i></a></sup>, Felipe M. Carlos <sup><a href=\"mailto:felipe.carlos@inpe.br\"><i class=\"far fa-lg fa-envelope\"></i></a> <a href=\"https://orcid.org/0000-0002-3334-4315\"><i class=\"fab fa-lg fa-orcid\" style=\"color: #a6ce39\"></i></a></sup>, Leonardo S. Vieira <sup><a href=\"mailto:leonardo.vieira@inpe.br\"><i class=\"far fa-lg fa-envelope\"></i></a> <a href=\"https://orcid.org/0000-0002-3397-6232\"><i class=\"fab fa-lg fa-orcid\" style=\"color: #a6ce39\"></i></a></sup>,<br/>\n",
    "    Karine R. Ferreira <sup><a href=\"mailto:karine.ferreira@inpe.br\"><i class=\"far fa-lg fa-envelope\"></i></a> <a href=\"https://orcid.org/0000-0003-2656-5504\"><i class=\"fab fa-lg fa-orcid\" style=\"color: #a6ce39\"></i></a></sup>, Lubia Vinhas <sup><a href=\"mailto:lubia.vinhas@inpe.br\"><i class=\"far fa-lg fa-envelope\"></i></a> <a href=\"https://orcid.org/0000-0003-1104-3607\"><i class=\"fab fa-lg fa-orcid\" style=\"color: #a6ce39\"></i></a></sup>, Gilberto R. Queiroz<sup>* <a href=\"mailto:gilberto.queiroz@inpe.br\"><i class=\"far fa-lg fa-envelope\"></i></a> <a href=\"https://orcid.org/0000-0001-7534-0219\"><i class=\"fab fa-lg fa-orcid\" style=\"color: #a6ce39\"></i></a></sup>\n",
    "    <br/><br/>\n",
    "    Earth Observation and Geoinformatics Division, National Institute for Space Research (INPE)\n",
    "    <br/>\n",
    "    Avenida dos Astronautas, 1758, Jardim da Granja, São José dos Campos, SP 12227-010, Brazil\n",
    "    <br/><br/>\n",
    "    <sup>*</sup> Author to whom correspondence should be addressed.\n",
    "    <br/><br/>\n",
    "    July 20, 2022\n",
    "</div>\n",
    "\n",
    "<br/>\n",
    "\n",
    "<div style=\"text-align: justify;  margin-left: 10%; margin-right: 10%;\">\n",
    "<b>Abstract.</b> This Jupyter Notebook compendium contains useful information for the creation of land use and land cover (LULC) maps using Earth observations data cubes and machine learning (ML) techniques. The code is based on the research pipeline described in the paper <em>Earth Observation Data Cubes for Brazil: Requirements, Methodology and Products</em>. These notebooks access open data available in the Brazil Data Cube platform.\n",
    "</div>    \n",
    "\n",
    "<br/>\n",
    "<div style=\"text-align: justify;  margin-left: 15%; margin-right: 15%;font-size: 75%; border-style: solid; border-color: #0077b9; border-width: 1px; padding: 5px;\">\n",
    "    <b>This Jupyter Notebook is supplement to the <a href=\"https://www.mdpi.com/2072-4292/12/24/4033/htm#sec5-remotesensing-12-04033\" target=\"_blank\">Section 5</a> of the following paper:</b>\n",
    "    <div style=\"margin-left: 10px; margin-right: 10px\">\n",
    "    Ferreira, K.R.; Queiroz, G.R.; Vinhas, L.; Marujo, R.F.B.; Simoes, R.E.O.; Picoli, M.C.A.; Camara, G.; Cartaxo, R.; Gomes, V.C.F.; Santos, L.A.; Sanchez, A.H.; Arcanjo, J.S.; Fronza, J.G.; Noronha, C.A.; Costa, R.W.; Zaglia, M.C.; Zioti, F.; Korting, T.S.; Soares, A.R.; Chaves, M.E.D.; Fonseca, L.M.G. 2020. Earth Observation Data Cubes for Brazil: Requirements, Methodology and Products. Remote Sens. 12, no. 24: 4033. DOI: <a href=\"https://doi.org/10.3390/rs12244033\" target=\"_blank\">10.3390/rs12244033</a>.\n",
    "    </div>\n",
    "</div>"
   ]
  },
  {
   "cell_type": "markdown",
   "id": "lesser-spelling",
   "metadata": {},
   "source": [
    "# <span style=\"color: #336699\">Land Use and Cover Mapping from Sentinel-2/MSI Data Cubes</span>\n",
    "<hr style=\"border:1px solid #0077b9;\">"
   ]
  },
  {
   "cell_type": "markdown",
   "id": "inner-impression",
   "metadata": {},
   "source": [
    "This document will present the steps to create a LULC map based on Sentinel-2/MSI data cube, training samples and a MultiLayer Perceptron neural network. This code relies on the [SITS R package](https://github.com/e-sensing/sits)."
   ]
  },
  {
   "cell_type": "markdown",
   "id": "ranking-purpose",
   "metadata": {},
   "source": [
    "## <span style=\"color: #336699\">Study Area and samples</span>\n",
    "<hr style=\"border:0.5px solid #0077b9;\">\n",
    "\n",
    "In this application we use the same region of interest and samples described in [Ferreira et al. (2020)](https://doi.org/10.3390/rs12244033). As depicted in Figure 1, the region is located in the Bahia state (Brazil), between the Cerrado and Caatinga biomes.\n",
    "\n",
    "\n",
    "<div align=\"center\">\n",
    "  <img src=\"https://raw.githubusercontent.com/brazil-data-cube/code-gallery/master/img/bdc-article/study-area.png\" width=\"600px\">\n",
    "</div>\n",
    "<br/>\n",
    "<center><b>Figure 1</b> - Study area in relation to Brazil and its biomes.</center>"
   ]
  },
  {
   "cell_type": "markdown",
   "id": "attached-honolulu",
   "metadata": {},
   "source": [
    "## <span style=\"color: #336699\">Set a pseudo-randomic seed</span>\n",
    "<hr style=\"border:0.5px solid #0077b9;\">"
   ]
  },
  {
   "cell_type": "markdown",
   "id": "incorporate-fountain",
   "metadata": {},
   "source": [
    "We will fix a pseudo-randomic seed in order to run the code:"
   ]
  },
  {
   "cell_type": "code",
   "execution_count": null,
   "id": "complete-doubt",
   "metadata": {},
   "outputs": [],
   "source": [
    "set.seed(777)"
   ]
  },
  {
   "cell_type": "markdown",
   "id": "plastic-semiconductor",
   "metadata": {},
   "source": [
    "## <span style=\"color: #336699\">Loading the software packages</span>\n",
    "<hr style=\"border:0.5px solid #0077b9;\">"
   ]
  },
  {
   "cell_type": "code",
   "execution_count": null,
   "id": "identical-california",
   "metadata": {},
   "outputs": [],
   "source": [
    "library(sits)"
   ]
  },
  {
   "cell_type": "markdown",
   "id": "alien-recipe",
   "metadata": {},
   "source": [
    "The user should also provides his access key to the Brazil Data Cube platform:"
   ]
  },
  {
   "cell_type": "code",
   "execution_count": null,
   "id": "diverse-stationery",
   "metadata": {},
   "outputs": [],
   "source": [
    "MY_ACCESS_KEY <- \"change-me\"\n",
    "Sys.setenv(BDC_ACCESS_KEY = MY_ACCESS_KEY)"
   ]
  },
  {
   "cell_type": "markdown",
   "id": "second-python",
   "metadata": {},
   "source": [
    "## <span style=\"color: #336699\">Defining the Data Cube</span>\n",
    "<hr style=\"border:0.5px solid #0077b9;\">"
   ]
  },
  {
   "cell_type": "markdown",
   "id": "agricultural-international",
   "metadata": {},
   "source": [
    "Let's start by defining the region of interest (ROI) as a sub-space of the red rectangle shown in Figure 1. \n",
    "\n",
    "The ROI is available in a file name `roi.rds` under the directory `roi`:"
   ]
  },
  {
   "cell_type": "code",
   "execution_count": null,
   "id": "prompt-replica",
   "metadata": {},
   "outputs": [],
   "source": [
    "roi <- readRDS(url(\"https://brazildatacube.dpi.inpe.br/geo-knowledge-hub/bdc-article/roi/roi.rds\"))\n",
    "roi_bbox <- sf::st_bbox(roi[[\"classification_roi\"]])"
   ]
  },
  {
   "cell_type": "markdown",
   "id": "marked-powell",
   "metadata": {},
   "source": [
    "> The `roi` is a list with two components:\n",
    "> * `classification_roi`: contains the geometry boundary for the classification.\n",
    "> * `search_roi`: a smaller rectangle than the `classification_roi`, that intersects only the data cube tiles we are interested to use in the classification.\n",
    "\n",
    "Next we define a time interval based on the crop calendar to define the working period:"
   ]
  },
  {
   "cell_type": "code",
   "execution_count": null,
   "id": "painted-lease",
   "metadata": {},
   "outputs": [],
   "source": [
    "start_date  <- \"2018-09-01\"\n",
    "end_date    <- \"2019-08-31\""
   ]
  },
  {
   "cell_type": "markdown",
   "id": "center-correction",
   "metadata": {},
   "source": [
    "In this Jupyter Notebook we focus the classification based on a Sentinel-2/MSI data cube named `S2-SEN2COR_10_16D_STK-1`:"
   ]
  },
  {
   "cell_type": "code",
   "execution_count": null,
   "id": "dietary-actor",
   "metadata": {},
   "outputs": [],
   "source": [
    "collection  <- \"S2-SEN2COR_10_16D_STK-1\""
   ]
  },
  {
   "cell_type": "markdown",
   "id": "fifty-darkness",
   "metadata": {},
   "source": [
    "Finally, let's define the data cube.\n",
    "\n",
    "The `sits` package will access the Sentinel-2/MSI data cube available in the Brazil Data Cube platform through the STAC web service:"
   ]
  },
  {
   "cell_type": "code",
   "execution_count": null,
   "id": "elect-washer",
   "metadata": {},
   "outputs": [],
   "source": [
    "cube <- sits_cube(\n",
    "  source      = \"BDC\",\n",
    "  collection  = collection,\n",
    "  start_date  = start_date,\n",
    "  end_date    = end_date,\n",
    "  roi         = roi_bbox\n",
    ")"
   ]
  },
  {
   "cell_type": "markdown",
   "id": "earned-solomon",
   "metadata": {},
   "source": [
    "> The definition above includes the spectral bands `Red`, `Green`, `Blue`, `Near-Infrared (NIR)` and the vegetation indices `EVI` and `NDVI` already available in the cube.\n",
    "\n",
    "> It also limits the temporal extension to `2018-09` to `2019-08`."
   ]
  },
  {
   "cell_type": "markdown",
   "id": "inclusive-integer",
   "metadata": {},
   "source": [
    "## <span style=\"color: #336699\">Loading the Training Samples</span>\n",
    "<hr style=\"border:0.5px solid #0077b9;\">"
   ]
  },
  {
   "cell_type": "markdown",
   "id": "cloudy-separation",
   "metadata": {},
   "source": [
    "Now, let's load the samples from a prepared file named `S2_10_16D_STK_1.rds`:"
   ]
  },
  {
   "cell_type": "code",
   "execution_count": null,
   "id": "cleared-praise",
   "metadata": {},
   "outputs": [],
   "source": [
    "train_samples_path <- \"./training-samples/S2_10_16D_STK_1.rds\"\n",
    "if (!file.exists(train_samples_path))\n",
    "    stop(\"Not found the training samples\", call. = FALSE)\n",
    "\n",
    "samples <- readRDS(train_samples_path)"
   ]
  },
  {
   "cell_type": "markdown",
   "id": "dated-billion",
   "metadata": {},
   "source": [
    "> The Jupyter Notebook entitled [Extracting time series from sample locations](./01_ExtractTimeSeries.ipynb) describes in detail how to prepare this file."
   ]
  },
  {
   "cell_type": "markdown",
   "id": "inner-textbook",
   "metadata": {},
   "source": [
    "## <span style=\"color: #336699\">MultiLayer Perceptron model definition</span>\n",
    "<hr style=\"border:0.5px solid #0077b9;\">"
   ]
  },
  {
   "cell_type": "markdown",
   "id": "human-roads",
   "metadata": {},
   "source": [
    "For the classification of data cubes, the article presents the use of an MLP network with five hidden layers with 512 neurons, trained with the backpropagation algorithm, using the Adam optimizer. The model uses the ReLu activation function.\n",
    "\n",
    "Below is the definition of this model using the [SITS package](https://github.com/e-sensing/sits)."
   ]
  },
  {
   "cell_type": "code",
   "execution_count": null,
   "id": "fantastic-eleven",
   "metadata": {},
   "outputs": [],
   "source": [
    "mlp_model <- sits_mlp(\n",
    "    layers        = c(512, 512, 512, 512, 512),\n",
    "    dropout_rates = c(0.50, 0.40, 0.35, 0.30, 0.20),\n",
    "    optimizer     = torch::optim_adam,\n",
    "    opt_hparams   = list(lr = 0.001),\n",
    "    epochs        = 10 # 200\n",
    ")"
   ]
  },
  {
   "cell_type": "markdown",
   "id": "bearing-thompson",
   "metadata": {},
   "source": [
    "Below, the defined model is trained using the same samples used in the article."
   ]
  },
  {
   "cell_type": "code",
   "execution_count": null,
   "id": "c0732412-9d18-45b0-acd3-688b55928056",
   "metadata": {},
   "outputs": [],
   "source": [
    "dl_model <- sits_train(samples, mlp_model)"
   ]
  },
  {
   "cell_type": "markdown",
   "id": "pediatric-antibody",
   "metadata": {},
   "source": [
    "## <span style=\"color: #336699\">Output Directory</span>\n",
    "<hr style=\"border:0.5px solid #0077b9;\">"
   ]
  },
  {
   "cell_type": "markdown",
   "id": "clinical-sewing",
   "metadata": {},
   "source": [
    "All the results generated in this document will be saved in your user's home directory, inside `results/S2_10_16D_STK_1` directory:"
   ]
  },
  {
   "cell_type": "code",
   "execution_count": null,
   "id": "hispanic-royal",
   "metadata": {},
   "outputs": [],
   "source": [
    "output_dir <- \"results/S2_10_16D_STK_1\"\n",
    "\n",
    "dir.create(\n",
    "    path         = output_dir, \n",
    "    showWarnings = FALSE, \n",
    "    recursive    = TRUE\n",
    ")"
   ]
  },
  {
   "cell_type": "markdown",
   "id": "anonymous-semester",
   "metadata": {},
   "source": [
    "## <span style=\"color: #336699\">Classifying the tiles from the data cube</span>\n",
    "<hr style=\"border:0.5px solid #0077b9;\">"
   ]
  },
  {
   "cell_type": "markdown",
   "id": "strong-greece",
   "metadata": {},
   "source": [
    "Before running the classification step, you should define the hardware resources that `sits` will be allowed to use during the classification:"
   ]
  },
  {
   "cell_type": "code",
   "execution_count": null,
   "id": "ongoing-definition",
   "metadata": {},
   "outputs": [],
   "source": [
    "classification_memsize    <- 8 # GB\n",
    "classification_multicores <- 3 # CPU logical cores"
   ]
  },
  {
   "cell_type": "markdown",
   "id": "twenty-cholesterol",
   "metadata": {},
   "source": [
    "The next cell uses the trainned MLP model (`dl_model`) to perform a classification based on the temporal data from the data cube: \n",
    "\n",
    "> This is a time-consuming process."
   ]
  },
  {
   "cell_type": "code",
   "execution_count": null,
   "id": "unlikely-tooth",
   "metadata": {},
   "outputs": [],
   "source": [
    "probs <- sits_classify(\n",
    "    data       = cube,\n",
    "    ml_model   = dl_model,\n",
    "    memsize    = classification_memsize,\n",
    "    multicores = classification_multicores,\n",
    "    roi        = roi$classification_roi,\n",
    "    output_dir = output_dir\n",
    ")"
   ]
  },
  {
   "cell_type": "markdown",
   "id": "passing-plane",
   "metadata": {},
   "source": [
    "> The generated data will be stored under the directory indicated by `output_dir`.\n",
    "\n",
    "> Note that here we use a geometry boundary from `roi$classification_roi` that is smaller than the region defined by the samples.\n",
    "\n",
    "The classification output of the Multilayer Perceptron (MLP) model is a raster with three layers (one for each land use class) containing the probabilities of each pixel belonging to each of the classes.\n",
    "\n",
    "For the Sentinel-2/MSI data, three rasters will be generated (`SENTINEL_MSI_088097_2018-08-29_2019-08-29_PROBS_v1.tif`, `SENTINEL_MSI_089097_2018.tif` and `SENTINEL_MSI_089098_2018.tif`). Each raster has 3 layers containing scaled probabilities (`x 10,000`) corresponding to the classes `Crop` (layer 1), `Natural Vegetation` (layer 2), and `Pasture` (layer 3). "
   ]
  },
  {
   "cell_type": "markdown",
   "id": "falling-champagne",
   "metadata": {},
   "source": [
    "## <span style=\"color: #336699\">Generating the Thematic Map</span>\n",
    "<hr style=\"border:0.5px solid #0077b9;\">"
   ]
  },
  {
   "cell_type": "markdown",
   "id": "legitimate-daniel",
   "metadata": {},
   "source": [
    "We are going to apply a probability Bayesian smoother method over the output of the MLP. This procedure uses the information of a pixel’s neighborhood to update its probabilities by taking the maximum likelihood estimator. The smoothing procedure removes isolated pixel class values and produces more homogeneous spatial areas.\n",
    "\n",
    "The next cell perform this operation:"
   ]
  },
  {
   "cell_type": "code",
   "execution_count": null,
   "id": "disturbed-polls",
   "metadata": {},
   "outputs": [],
   "source": [
    "probs_smoothed <- sits_smooth(\n",
    "    cube       = probs, \n",
    "    type       = \"bayes\",\n",
    "    memsize    = classification_memsize,\n",
    "    multicores = classification_multicores,\n",
    "    output_dir = output_dir\n",
    ")"
   ]
  },
  {
   "cell_type": "markdown",
   "id": "subsequent-fitting",
   "metadata": {},
   "source": [
    "After that, to generate the thematic maps the most probable class is taken as the pixel class. Each class is represented by the codes 1 (Crop), 2 (Natural Vegetation), and 3 (Pasture). The next cell show how to perform this step:"
   ]
  },
  {
   "cell_type": "code",
   "execution_count": null,
   "id": "instrumental-shade",
   "metadata": {},
   "outputs": [],
   "source": [
    "labels <- sits_label_classification(\n",
    "    cube = probs_smoothed,\n",
    "    memsize    = classification_memsize,\n",
    "    multicores = classification_multicores,\n",
    "    output_dir = output_dir\n",
    ")"
   ]
  },
  {
   "cell_type": "markdown",
   "id": "chief-booth",
   "metadata": {},
   "source": [
    "## <span style=\"color: #336699\">Visualizing the Thematic Map</span>\n",
    "<hr style=\"border:0.5px solid #0077b9;\">"
   ]
  },
  {
   "cell_type": "markdown",
   "id": "straight-flower",
   "metadata": {},
   "source": [
    "Finally, let's plot the resulted map:"
   ]
  },
  {
   "cell_type": "code",
   "execution_count": null,
   "id": "positive-weather",
   "metadata": {},
   "outputs": [],
   "source": [
    "plot(labels)"
   ]
  }
 ],
 "metadata": {
  "kernelspec": {
   "display_name": "R",
   "language": "R",
   "name": "ir"
  },
  "language_info": {
   "codemirror_mode": "r",
   "file_extension": ".r",
   "mimetype": "text/x-r-source",
   "name": "R",
   "pygments_lexer": "r",
   "version": "4.2.1"
  }
 },
 "nbformat": 4,
 "nbformat_minor": 5
}
