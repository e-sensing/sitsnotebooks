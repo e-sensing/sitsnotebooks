{
 "cells": [
  {
   "cell_type": "markdown",
   "id": "suffering-respect",
   "metadata": {},
   "source": [
    "<img src=\"https://raw.githubusercontent.com/brazil-data-cube/code-gallery/master/img/logo-bdc.png\" align=\"right\" width=\"64\"/>\n",
    "\n",
    "# <span style=\"color: #336699\">Land use and land cover classification in the Brazilian Cerrado biome using Brazil Data Cube</span>\n",
    "<hr style=\"border:2px solid #0077b9;\">\n",
    "\n",
    "<br/>\n",
    "\n",
    "<div style=\"text-align: center;font-size: 90%;\">\n",
    "    Rolf E. O. Simões <sup><a href=\"mailto:rolf.simoes@inpe.br\"><i class=\"far fa-lg fa-envelope\"></i></a> <a href=\"https://orcid.org/0000-0003-0953-4132\"><i class=\"fab fa-lg fa-orcid\" style=\"color: #a6ce39\"></i></a></sup>, Alber H. Sanchez <sup><a href=\"mailto:alber.ipia@inpe.br\"><i class=\"far fa-lg fa-envelope\"></i></a> <a href=\"https://orcid.org/0000-0001-7966-2880\"><i class=\"fab fa-lg fa-orcid\" style=\"color: #a6ce39\"></i></a></sup>, Felipe M. Carlos <sup><a href=\"mailto:felipe.carlos@inpe.br\"><i class=\"far fa-lg fa-envelope\"></i></a> <a href=\"https://orcid.org/0000-0002-3334-4315\"><i class=\"fab fa-lg fa-orcid\" style=\"color: #a6ce39\"></i></a></sup>, Leonardo S. Vieira <sup><a href=\"mailto:leonardo.vieira@inpe.br\"><i class=\"far fa-lg fa-envelope\"></i></a> <a href=\"https://orcid.org/0000-0002-3397-6232\"><i class=\"fab fa-lg fa-orcid\" style=\"color: #a6ce39\"></i></a></sup>,<br/>\n",
    "    Karine R. Ferreira <sup><a href=\"mailto:karine.ferreira@inpe.br\"><i class=\"far fa-lg fa-envelope\"></i></a> <a href=\"https://orcid.org/0000-0003-2656-5504\"><i class=\"fab fa-lg fa-orcid\" style=\"color: #a6ce39\"></i></a></sup>, Lubia Vinhas <sup><a href=\"mailto:lubia.vinhas@inpe.br\"><i class=\"far fa-lg fa-envelope\"></i></a> <a href=\"https://orcid.org/0000-0003-1104-3607\"><i class=\"fab fa-lg fa-orcid\" style=\"color: #a6ce39\"></i></a></sup>, Gilberto R. Queiroz<sup>* <a href=\"mailto:gilberto.queiroz@inpe.br\"><i class=\"far fa-lg fa-envelope\"></i></a> <a href=\"https://orcid.org/0000-0001-7534-0219\"><i class=\"fab fa-lg fa-orcid\" style=\"color: #a6ce39\"></i></a></sup>\n",
    "    <br/><br/>\n",
    "    Earth Observation and Geoinformatics Division, National Institute for Space Research (INPE)\n",
    "    <br/>\n",
    "    Avenida dos Astronautas, 1758, Jardim da Granja, São José dos Campos, SP 12227-010, Brazil\n",
    "    <br/><br/>\n",
    "    <sup>*</sup> Author to whom correspondence should be addressed.\n",
    "    <br/><br/>\n",
    "    July 20, 2022\n",
    "</div>\n",
    "\n",
    "<br/>\n",
    "\n",
    "<div style=\"text-align: justify;  margin-left: 10%; margin-right: 10%;\">\n",
    "<b>Abstract.</b> This Jupyter Notebook compendium contains useful information for the creation of land use and land cover (LULC) maps using Earth observations data cubes and machine learning (ML) techniques. The code is based on the research pipeline described in the paper <em>Earth Observation Data Cubes for Brazil: Requirements, Methodology and Products</em>. These notebooks access open data available in the Brazil Data Cube platform.\n",
    "</div>    \n",
    "\n",
    "<br/>\n",
    "<div style=\"text-align: justify;  margin-left: 15%; margin-right: 15%;font-size: 75%; border-style: solid; border-color: #0077b9; border-width: 1px; padding: 5px;\">\n",
    "    <b>This Jupyter Notebook is supplement to the <a href=\"https://www.mdpi.com/2072-4292/12/24/4033/htm#sec5-remotesensing-12-04033\" target=\"_blank\">Section 5</a> of the following paper:</b>\n",
    "    <div style=\"margin-left: 10px; margin-right: 10px\">\n",
    "    Ferreira, K.R.; Queiroz, G.R.; Vinhas, L.; Marujo, R.F.B.; Simoes, R.E.O.; Picoli, M.C.A.; Camara, G.; Cartaxo, R.; Gomes, V.C.F.; Santos, L.A.; Sanchez, A.H.; Arcanjo, J.S.; Fronza, J.G.; Noronha, C.A.; Costa, R.W.; Zaglia, M.C.; Zioti, F.; Korting, T.S.; Soares, A.R.; Chaves, M.E.D.; Fonseca, L.M.G. 2020. Earth Observation Data Cubes for Brazil: Requirements, Methodology and Products. Remote Sens. 12, no. 24: 4033. DOI: <a href=\"https://doi.org/10.3390/rs12244033\" target=\"_blank\">10.3390/rs12244033</a>.\n",
    "    </div>\n",
    "</div>"
   ]
  },
  {
   "cell_type": "markdown",
   "id": "dressed-abuse",
   "metadata": {},
   "source": [
    "# <span style=\"color: #336699\">Validation results for Sentinel-2/MSI classification</span>\n",
    "<hr style=\"border:1px solid #0077b9;\">"
   ]
  },
  {
   "cell_type": "markdown",
   "id": "automotive-teens",
   "metadata": {},
   "source": [
    "This document presents the process for the validation of the results generated in the classification made using the Sentinel-2/MSI data cube. \n",
    "\n",
    "The validation procedure of the land use and land cover thematic followed the good practice guidelines for accuracy assessment based on reference data proposed by [Olofsson et al. (2014)](https://doi.org/10.1016/j.rse.2014.02.015).\n",
    "\n",
    "> The Jupyter Notebook entitled [Land Use and Cover Mapping from Sentinel-2/MSI Data Cubes](./06_S2_10_16D_STK-1.ipynb) describes in detail how to create the thematic map used here."
   ]
  },
  {
   "cell_type": "markdown",
   "id": "sticky-pharmacy",
   "metadata": {},
   "source": [
    "## <span style=\"color: #336699\">Loading the software packages</span>\n",
    "<hr style=\"border:0.5px solid #0077b9;\">"
   ]
  },
  {
   "cell_type": "markdown",
   "id": "passing-courage",
   "metadata": {},
   "source": [
    "In this example, the validation process uses the [SITS R package](https://github.com/e-sensing/sits):"
   ]
  },
  {
   "cell_type": "code",
   "execution_count": null,
   "id": "laden-possibility",
   "metadata": {},
   "outputs": [],
   "source": [
    "library(sits)"
   ]
  },
  {
   "cell_type": "markdown",
   "id": "changing-typing",
   "metadata": {},
   "source": [
    "We are going to use functionalities from the `sf` package as well:"
   ]
  },
  {
   "cell_type": "code",
   "execution_count": null,
   "id": "champion-jungle",
   "metadata": {},
   "outputs": [],
   "source": [
    "library(sf)"
   ]
  },
  {
   "cell_type": "markdown",
   "id": "gross-letter",
   "metadata": {},
   "source": [
    "## <span style=\"color: #336699\">Load data</span>\n",
    "<hr style=\"border:0.5px solid #0077b9;\">"
   ]
  },
  {
   "cell_type": "markdown",
   "id": "herbal-valve",
   "metadata": {},
   "source": [
    "To perform the validation, it is initially necessary to load the classification results and the samples used as a reference."
   ]
  },
  {
   "cell_type": "code",
   "execution_count": null,
   "id": "great-argument",
   "metadata": {},
   "outputs": [],
   "source": [
    "classification_results <- raster::raster(paste0(\"/vsicurl/https://brazildatacube.dpi.inpe.br/\",\n",
    "                                                \"geo-knowledge-hub/bdc-article/results/S2_10_16D_STK_1/\",\n",
    "                                                \"cube_to_classify_merged_probs_class_2018_8_2019_7_v1.tif\"))\n",
    "\n",
    "validation_samples <- readRDS(url(paste0(\"https://brazildatacube.dpi.inpe.br/\",\n",
    "                                         \"geo-knowledge-hub/bdc-article/validation-samples/\",\n",
    "                                         \"validation-samples.rds\")))"
   ]
  },
  {
   "cell_type": "markdown",
   "id": "periodic-shelf",
   "metadata": {},
   "source": [
    "> If you want to use the output generated in the previous Jupyter Notebook, entitled [Land Use and Cover Mapping from Sentinel-2/MSI Data Cubes](./06_S2_10_16D_STK-1.ipynb), you can replace the directory path by the path `results/S2_10_16D_STK_1` in the first line of the above cell.\n",
    "\n",
    "The cell code below shows the region of the validation samples:"
   ]
  },
  {
   "cell_type": "code",
   "execution_count": null,
   "id": "indie-helping",
   "metadata": {},
   "outputs": [],
   "source": [
    "library(leaflet)\n",
    "\n",
    "#\n",
    "# extract reference\n",
    "#\n",
    "reference_val <- validation_samples$geom$reference\n",
    "region_of_interest <- sf::st_read(\"/vsicurl/https://brazildatacube.dpi.inpe.br/geo-knowledge-hub/bdc-article/roi/shp/roi.shp\", quiet = TRUE)\n",
    "\n",
    "#\n",
    "# rename values\n",
    "#\n",
    "reference_val[reference_val == 1] <- 'Natural'\n",
    "reference_val[reference_val == 2] <- 'Anthropic'\n",
    "\n",
    "#\n",
    "# create a color function\n",
    "#\n",
    "factpal <- colorFactor(\n",
    "    palette = c(\"#ea18d2\", \"#44ea57\"),\n",
    "    domain = c( \"Anthropic\", \"Natural\")\n",
    ")\n",
    "\n",
    "#\n",
    "# generate the map!\n",
    "#\n",
    "leaflet::leaflet(validation_samples$geom, width=\"100%\", height=\"600px\") %>%\n",
    "    addProviderTiles(providers$Esri.WorldImagery) %>%\n",
    "    setView(lng = -45.5, lat = -12.8, zoom = 9) %>%\n",
    "    \n",
    "    addPolygons(data = region_of_interest) %>%\n",
    "    addCircleMarkers(popup = reference_val, color = factpal(reference_val),\n",
    "                     radius = 4, stroke = FALSE, fillOpacity = 1) %>%\n",
    "    \n",
    "    addLegend(\"topright\", \n",
    "              pal     = factpal, \n",
    "              values  = reference_val,\n",
    "              title   = \"Validation Samples\", \n",
    "              opacity = 1)\n"
   ]
  },
  {
   "cell_type": "markdown",
   "id": "faced-essence",
   "metadata": {},
   "source": [
    "## <span style=\"color: #336699\">Extract predicted values</span>\n",
    "<hr style=\"border:0.5px solid #0077b9;\">"
   ]
  },
  {
   "cell_type": "markdown",
   "id": "normal-probe",
   "metadata": {},
   "source": [
    "With the rasters and reference samples loaded, it will now be necessary to extract the values corresponding to each of the validation samples' locations from the classified raster. This extraction allows the comparison of the predicted and reference values.\n",
    "\n",
    "> For extraction at each location, the `extract` function of the [raster package](https://cran.r-project.org/web/packages/raster/raster.pdf) is used.\n",
    "\n",
    "In the next cell $x$ corresponds to the classified raster and $y$ to the location of the validation samples:"
   ]
  },
  {
   "cell_type": "code",
   "execution_count": null,
   "id": "improved-article",
   "metadata": {},
   "outputs": [],
   "source": [
    "predicted_values <- raster::extract(\n",
    "  x = classification_results, \n",
    "  y = validation_samples$geom\n",
    ")"
   ]
  },
  {
   "cell_type": "markdown",
   "id": "boxed-economics",
   "metadata": {},
   "source": [
    "The `predicted_values` is a vector with the same length as `validation_samples`, whose values correspond to classes from the input classified raster."
   ]
  },
  {
   "cell_type": "markdown",
   "id": "presidential-darwin",
   "metadata": {},
   "source": [
    "## <span style=\"color: #336699\">Transform extracted values</span>\n",
    "<hr style=\"border:0.5px solid #0077b9;\">\n"
   ]
  },
  {
   "cell_type": "markdown",
   "id": "magnetic-competition",
   "metadata": {},
   "source": [
    "\n",
    "We base the validation on two classes, the `Natural Vegetation` class and on a new broader class named `Anthropic`. \n",
    "\n",
    "To obtain the `Anthropic` class we have to merge the `Crop` and `Pasture` classes. So, in the `predicted_values` vector we will temporarily relabel the cells `Natural Vegetation` from code `2` to `5`:"
   ]
  },
  {
   "cell_type": "code",
   "execution_count": null,
   "id": "endangered-horror",
   "metadata": {},
   "outputs": [],
   "source": [
    "predicted_values[predicted_values == 2] <- 5"
   ]
  },
  {
   "cell_type": "markdown",
   "id": "quality-liability",
   "metadata": {},
   "source": [
    "Then, we can relabel `Pasture` (1) and `Agriculture` (3) to the equivalent PRODES `Anthropic` class (2):"
   ]
  },
  {
   "cell_type": "code",
   "execution_count": null,
   "id": "raised-coach",
   "metadata": {},
   "outputs": [],
   "source": [
    "predicted_values[predicted_values == 1] <- 2\n",
    "predicted_values[predicted_values == 3] <- 2"
   ]
  },
  {
   "cell_type": "markdown",
   "id": "civil-shuttle",
   "metadata": {},
   "source": [
    "Finally, we can set the `Natural Vegetation` cells to value `1` again:"
   ]
  },
  {
   "cell_type": "code",
   "execution_count": null,
   "id": "registered-stuff",
   "metadata": {},
   "outputs": [],
   "source": [
    "predicted_values[predicted_values == 5] <- 1"
   ]
  },
  {
   "cell_type": "markdown",
   "id": "pressing-eligibility",
   "metadata": {},
   "source": [
    "> When the classification process is carried out, there is no way to specify the values assigned to each of the classes being identified. Thus, it may be necessary to check the classification values and their corresponding elements so that the values are used for comparison. "
   ]
  },
  {
   "cell_type": "markdown",
   "id": "focal-humor",
   "metadata": {},
   "source": [
    "## <span style=\"color: #336699\">Evaluating</span>\n",
    "<hr style=\"border:0.5px solid #0077b9;\">"
   ]
  },
  {
   "cell_type": "code",
   "execution_count": null,
   "id": "russian-bathroom",
   "metadata": {},
   "outputs": [],
   "source": [
    "library(caret)\n",
    "\n",
    "caret::confusionMatrix(\n",
    "    data      = as.factor(predicted_values),\n",
    "    reference = as.factor(validation_samples$reference)\n",
    ")"
   ]
  }
 ],
 "metadata": {
  "kernelspec": {
   "display_name": "R",
   "language": "R",
   "name": "ir"
  },
  "language_info": {
   "codemirror_mode": "r",
   "file_extension": ".r",
   "mimetype": "text/x-r-source",
   "name": "R",
   "pygments_lexer": "r",
   "version": "4.2.1"
  }
 },
 "nbformat": 4,
 "nbformat_minor": 5
}
