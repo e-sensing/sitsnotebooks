{
 "cells": [
  {
   "cell_type": "markdown",
   "id": "committed-scientist",
   "metadata": {},
   "source": [
    "<img src=\"https://raw.githubusercontent.com/brazil-data-cube/code-gallery/master/img/logo-bdc.png\" align=\"right\" width=\"64\"/>\n",
    "\n",
    "# <span style=\"color: #336699\">Land use and land cover classification in the Brazilian Cerrado biome using Brazil Data Cube</span>\n",
    "<hr style=\"border:2px solid #0077b9;\">\n",
    "\n",
    "<br/>\n",
    "\n",
    "<div style=\"text-align: center;font-size: 90%;\">\n",
    "    Rolf E. O. Simões <sup><a href=\"mailto:rolf.simoes@inpe.br\"><i class=\"far fa-lg fa-envelope\"></i></a> <a href=\"https://orcid.org/0000-0003-0953-4132\"><i class=\"fab fa-lg fa-orcid\" style=\"color: #a6ce39\"></i></a></sup>, Alber H. Sanchez <sup><a href=\"mailto:alber.ipia@inpe.br\"><i class=\"far fa-lg fa-envelope\"></i></a> <a href=\"https://orcid.org/0000-0001-7966-2880\"><i class=\"fab fa-lg fa-orcid\" style=\"color: #a6ce39\"></i></a></sup>, Felipe M. Carlos <sup><a href=\"mailto:felipe.carlos@inpe.br\"><i class=\"far fa-lg fa-envelope\"></i></a> <a href=\"https://orcid.org/0000-0002-3334-4315\"><i class=\"fab fa-lg fa-orcid\" style=\"color: #a6ce39\"></i></a></sup>, Leonardo S. Vieira <sup><a href=\"mailto:leonardo.vieira@inpe.br\"><i class=\"far fa-lg fa-envelope\"></i></a> <a href=\"https://orcid.org/0000-0002-3397-6232\"><i class=\"fab fa-lg fa-orcid\" style=\"color: #a6ce39\"></i></a></sup>,<br/>\n",
    "    Karine R. Ferreira <sup><a href=\"mailto:karine.ferreira@inpe.br\"><i class=\"far fa-lg fa-envelope\"></i></a> <a href=\"https://orcid.org/0000-0003-2656-5504\"><i class=\"fab fa-lg fa-orcid\" style=\"color: #a6ce39\"></i></a></sup>, Lubia Vinhas <sup><a href=\"mailto:lubia.vinhas@inpe.br\"><i class=\"far fa-lg fa-envelope\"></i></a> <a href=\"https://orcid.org/0000-0003-1104-3607\"><i class=\"fab fa-lg fa-orcid\" style=\"color: #a6ce39\"></i></a></sup>, Gilberto R. Queiroz<sup>* <a href=\"mailto:gilberto.queiroz@inpe.br\"><i class=\"far fa-lg fa-envelope\"></i></a> <a href=\"https://orcid.org/0000-0001-7534-0219\"><i class=\"fab fa-lg fa-orcid\" style=\"color: #a6ce39\"></i></a></sup>\n",
    "    <br/><br/>\n",
    "    Earth Observation and Geoinformatics Division, National Institute for Space Research (INPE)\n",
    "    <br/>\n",
    "    Avenida dos Astronautas, 1758, Jardim da Granja, São José dos Campos, SP 12227-010, Brazil\n",
    "    <br/><br/>\n",
    "    <sup>*</sup> Author to whom correspondence should be addressed.\n",
    "    <br/><br/>\n",
    "    July 20, 2022\n",
    "</div>\n",
    "\n",
    "<br/>\n",
    "\n",
    "<div style=\"text-align: justify;  margin-left: 10%; margin-right: 10%;\">\n",
    "<b>Abstract.</b> This Jupyter Notebook compendium contains useful information for the creation of land use and land cover (LULC) maps using Earth observations data cubes and machine learning (ML) techniques. The code is based on the research pipeline described in the paper <em>Earth Observation Data Cubes for Brazil: Requirements, Methodology and Products</em>. These notebooks access open data available in the Brazil Data Cube platform.\n",
    "</div>    \n",
    "\n",
    "<br/>\n",
    "<div style=\"text-align: justify;  margin-left: 15%; margin-right: 15%;font-size: 75%; border-style: solid; border-color: #0077b9; border-width: 1px; padding: 5px;\">\n",
    "    <b>This Jupyter Notebook is supplement to the <a href=\"https://www.mdpi.com/2072-4292/12/24/4033/htm#sec5-remotesensing-12-04033\" target=\"_blank\">Section 5</a> of the following paper:</b>\n",
    "    <div style=\"margin-left: 10px; margin-right: 10px\">\n",
    "    Ferreira, K.R.; Queiroz, G.R.; Vinhas, L.; Marujo, R.F.B.; Simoes, R.E.O.; Picoli, M.C.A.; Camara, G.; Cartaxo, R.; Gomes, V.C.F.; Santos, L.A.; Sanchez, A.H.; Arcanjo, J.S.; Fronza, J.G.; Noronha, C.A.; Costa, R.W.; Zaglia, M.C.; Zioti, F.; Korting, T.S.; Soares, A.R.; Chaves, M.E.D.; Fonseca, L.M.G. 2020. Earth Observation Data Cubes for Brazil: Requirements, Methodology and Products. Remote Sens. 12, no. 24: 4033. DOI: <a href=\"https://doi.org/10.3390/rs12244033\" target=\"_blank\">10.3390/rs12244033</a>.\n",
    "    </div>\n",
    "</div>"
   ]
  },
  {
   "cell_type": "markdown",
   "id": "legislative-gates",
   "metadata": {},
   "source": [
    "# <span style=\"color: #336699\">Land Use and Cover Mapping from Landsat-8/OLI Data Cubes</span>\n",
    "<hr style=\"border:1px solid #0077b9;\">\n",
    "\n",
    "This document will present the steps used to generate the Landsat-8/OLI classification map presented in the paper. As presented in the article, the classification process was done using the [SITS R package](https://github.com/e-sensing/sits).\n"
   ]
  },
  {
   "cell_type": "markdown",
   "id": "boxed-polls",
   "metadata": {},
   "source": [
    "## <span style=\"color: #336699\">Study Area and samples</span>\n",
    "<hr style=\"border:0.5px solid #0077b9;\">\n",
    "\n",
    "In this application we use the same region of interest and samples described in [Ferreira et al. (2020)](https://doi.org/10.3390/rs12244033). As depicted in Figure 1, the region is located in the Bahia state (Brazil), between the Cerrado and Caatinga biomes.\n",
    "\n",
    "\n",
    "<div align=\"center\">\n",
    "  <img src=\"https://raw.githubusercontent.com/brazil-data-cube/code-gallery/master/img/bdc-article/study-area.png\" width=\"600px\">\n",
    "</div>\n",
    "<br/>\n",
    "<center><b>Figure 1</b> - Study area in relation to Brazil and its biomes.</center>"
   ]
  },
  {
   "cell_type": "markdown",
   "id": "million-petroleum",
   "metadata": {},
   "source": [
    "## <span style=\"color: #336699\">Set a pseudo-randomic seed</span>\n",
    "<hr style=\"border:0.5px solid #0077b9;\">"
   ]
  },
  {
   "cell_type": "markdown",
   "id": "color-people",
   "metadata": {},
   "source": [
    "We will fix a pseudo-randomic seed in order to run the code:"
   ]
  },
  {
   "cell_type": "code",
   "execution_count": null,
   "id": "damaged-pulse",
   "metadata": {},
   "outputs": [],
   "source": [
    "set.seed(777)"
   ]
  },
  {
   "cell_type": "markdown",
   "id": "objective-color",
   "metadata": {},
   "source": [
    "## <span style=\"color: #336699\">Loading the software packages</span>\n",
    "<hr style=\"border:0.5px solid #0077b9;\">"
   ]
  },
  {
   "cell_type": "code",
   "execution_count": null,
   "id": "recognized-inventory",
   "metadata": {},
   "outputs": [],
   "source": [
    "library(sits)"
   ]
  },
  {
   "cell_type": "markdown",
   "id": "adjacent-color",
   "metadata": {},
   "source": [
    "The user should also provides his access key to the Brazil Data Cube platform:"
   ]
  },
  {
   "cell_type": "code",
   "execution_count": null,
   "id": "noticed-struggle",
   "metadata": {},
   "outputs": [],
   "source": [
    "MY_ACCESS_KEY <- \"change-me\"\n",
    "Sys.setenv(BDC_ACCESS_KEY = MY_ACCESS_KEY)"
   ]
  },
  {
   "cell_type": "markdown",
   "id": "standard-andorra",
   "metadata": {},
   "source": [
    "## <span style=\"color: #336699\">Defining the Data Cube</span>\n",
    "<hr style=\"border:0.5px solid #0077b9;\">"
   ]
  },
  {
   "cell_type": "markdown",
   "id": "cordless-devices",
   "metadata": {},
   "source": [
    "Let's start by defining the region of interest (ROI) as a sub-space of the red rectangle shown in Figure 1. \n",
    "\n",
    "The ROI is available in a file name `roi.rds` under the directory `roi`:"
   ]
  },
  {
   "cell_type": "code",
   "execution_count": null,
   "id": "fifty-above",
   "metadata": {},
   "outputs": [],
   "source": [
    "roi <- readRDS(url(\"https://brazildatacube.dpi.inpe.br/geo-knowledge-hub/bdc-article/roi/roi.rds\"))\n",
    "roi_bbox <- sf::st_bbox(roi[[\"classification_roi\"]])"
   ]
  },
  {
   "cell_type": "markdown",
   "id": "illegal-copyright",
   "metadata": {},
   "source": [
    "> The `roi` is a list with two components:\n",
    "> * `classification_roi`: contains the geometry boundary for the classification.\n",
    "> * `search_roi`: a smaller rectangle than the `classification_roi`, that intersects only the data cube tiles we are interested to use in the classification.\n",
    "\n",
    "Next we define a time interval based on the crop calendar to define the working period:"
   ]
  },
  {
   "cell_type": "code",
   "execution_count": null,
   "id": "original-electron",
   "metadata": {},
   "outputs": [],
   "source": [
    "start_date  <- \"2018-09-01\"\n",
    "end_date    <- \"2019-08-31\""
   ]
  },
  {
   "cell_type": "markdown",
   "id": "coastal-chapel",
   "metadata": {},
   "source": [
    "In this Jupyter Notebook we focus the classification based on a Landsat-8/OLI data cube named `LC8_30_16D_STK-1`:"
   ]
  },
  {
   "cell_type": "code",
   "execution_count": null,
   "id": "brilliant-serum",
   "metadata": {},
   "outputs": [],
   "source": [
    "collection  <- \"LC8_30_16D_STK-1\""
   ]
  },
  {
   "cell_type": "markdown",
   "id": "complex-california",
   "metadata": {},
   "source": [
    "Finally, let's define the data cube.\n",
    "\n",
    "The `sits` package will access the CBERS-4/AWFI data cube available in the Brazil Data Cube platform through the STAC web service:"
   ]
  },
  {
   "cell_type": "code",
   "execution_count": null,
   "id": "negative-thesis",
   "metadata": {},
   "outputs": [],
   "source": [
    "cube <- sits_cube(\n",
    "  source      = \"BDC\",\n",
    "  collection  = collection,\n",
    "  start_date  = start_date,\n",
    "  end_date    = end_date,\n",
    "  roi         = roi_bbox\n",
    ")"
   ]
  },
  {
   "cell_type": "markdown",
   "id": "needed-example",
   "metadata": {},
   "source": [
    "> The definition above includes the spectral bands `Red`, `Green`, `Blue`, `Near-Infrared (NIR)` and the vegetation indices `EVI` and `NDVI` already available in the cube.\n",
    "\n",
    "> It also limits the temporal extension to `2018-09` to `2019-08`."
   ]
  },
  {
   "cell_type": "markdown",
   "id": "powered-malawi",
   "metadata": {},
   "source": [
    "## <span style=\"color: #336699\">Loading the Training Samples</span>\n",
    "<hr style=\"border:0.5px solid #0077b9;\">"
   ]
  },
  {
   "cell_type": "markdown",
   "id": "bright-overall",
   "metadata": {},
   "source": [
    "Now, let's load the samples from a prepared file named `LC8_30_16D_STK_1.rds`:"
   ]
  },
  {
   "cell_type": "code",
   "execution_count": null,
   "id": "satellite-domain",
   "metadata": {},
   "outputs": [],
   "source": [
    "train_samples_path <- \"./training-samples/LC8_30_16D_STK_1.rds\"\n",
    "if (!file.exists(train_samples_path))\n",
    "    stop(\"Not found the training samples\", call. = FALSE)\n",
    "\n",
    "samples <- readRDS(train_samples_path)"
   ]
  },
  {
   "cell_type": "markdown",
   "id": "blank-stockholm",
   "metadata": {},
   "source": [
    "> The Jupyter Notebook entitled [Extracting time series from sample locations](./01_ExtractTimeSeries.ipynb) describes in detail how to prepare this file."
   ]
  },
  {
   "cell_type": "markdown",
   "id": "animal-anthropology",
   "metadata": {},
   "source": [
    "## <span style=\"color: #336699\">MultiLayer Perceptron model definition</span>\n",
    "<hr style=\"border:0.5px solid #0077b9;\">"
   ]
  },
  {
   "cell_type": "markdown",
   "id": "equipped-chambers",
   "metadata": {},
   "source": [
    "For the classification of data cubes, the article presents the use of an MLP network with five hidden layers with 512 neurons, trained with the backpropagation algorithm, using the Adam optimizer. The model uses the ReLu activation function.\n",
    "\n",
    "Below is the definition of this model using the [SITS package](https://github.com/e-sensing/sits)."
   ]
  },
  {
   "cell_type": "code",
   "execution_count": null,
   "id": "caring-macro",
   "metadata": {},
   "outputs": [],
   "source": [
    "mlp_model <- sits_mlp(\n",
    "    layers        = c(512, 512, 512, 512, 512),\n",
    "    dropout_rates = c(0.50, 0.40, 0.35, 0.30, 0.20), \n",
    "    optimizer     = torch::optim_adam,\n",
    "    opt_hparams   = list(lr = 0.001),\n",
    "    epochs        = 200\n",
    ")"
   ]
  },
  {
   "cell_type": "markdown",
   "id": "grave-toronto",
   "metadata": {},
   "source": [
    "Below, the defined model is trained using the same samples used in the article."
   ]
  },
  {
   "cell_type": "code",
   "execution_count": null,
   "id": "oriental-register",
   "metadata": {},
   "outputs": [],
   "source": [
    "dl_model <- sits_train(samples, mlp_model)"
   ]
  },
  {
   "cell_type": "markdown",
   "id": "continued-earth",
   "metadata": {},
   "source": [
    "## <span style=\"color: #336699\">Output Directory</span>\n",
    "<hr style=\"border:0.5px solid #0077b9;\">"
   ]
  },
  {
   "cell_type": "markdown",
   "id": "convertible-fight",
   "metadata": {},
   "source": [
    "All the results generated in this document will be saved in your user's home directory, inside `results/LC8_30_16D_STK_1` directory:"
   ]
  },
  {
   "cell_type": "code",
   "execution_count": null,
   "id": "unauthorized-nelson",
   "metadata": {},
   "outputs": [],
   "source": [
    "output_dir <- \"results/LC8_30_16D_STK_1\"\n",
    "\n",
    "dir.create(\n",
    "    path         = output_dir, \n",
    "    showWarnings = FALSE, \n",
    "    recursive    = TRUE\n",
    ")"
   ]
  },
  {
   "cell_type": "markdown",
   "id": "southwest-arthritis",
   "metadata": {},
   "source": [
    "## <span style=\"color: #336699\">Classifying the tiles from the data cube</span>\n",
    "<hr style=\"border:0.5px solid #0077b9;\">"
   ]
  },
  {
   "cell_type": "markdown",
   "id": "convertible-search",
   "metadata": {},
   "source": [
    "Before running the classification step, you should define the hardware resources that `sits` will be allowed to use during the classification:"
   ]
  },
  {
   "cell_type": "code",
   "execution_count": null,
   "id": "opened-artist",
   "metadata": {},
   "outputs": [],
   "source": [
    "classification_memsize    <- 8 # GB\n",
    "classification_multicores <- 3 # CPU logical cores"
   ]
  },
  {
   "cell_type": "markdown",
   "id": "separate-relations",
   "metadata": {},
   "source": [
    "The next cell uses the trainned MLP model (`dl_model`) to perform a classification based on the temporal data from the data cube: \n",
    "\n",
    "> This is a time-consuming process."
   ]
  },
  {
   "cell_type": "code",
   "execution_count": null,
   "id": "french-tyler",
   "metadata": {},
   "outputs": [],
   "source": [
    "probs <- sits_classify(\n",
    "    data       = cube,\n",
    "    ml_model   = dl_model,\n",
    "    memsize    = classification_memsize,\n",
    "    multicores = classification_multicores,\n",
    "    roi        = roi$classification_roi,\n",
    "    output_dir = output_dir\n",
    ")"
   ]
  },
  {
   "cell_type": "markdown",
   "id": "figured-episode",
   "metadata": {},
   "source": [
    "> The generated data will be stored under the directory indicated by `output_dir`.\n",
    "\n",
    "> Note that here we use a geometry boundary from `roi$classification_roi` that is smaller than the region defined by the samples.\n",
    "\n",
    "The classification output of the Multilayer Perceptron (MLP) model is a raster with three layers (one for each land use class) containing the probabilities of each pixel belonging to each of the classes.\n",
    "\n",
    "For the Landsat-8/OLI data, two rasters will be generated (`LANDSAT_OLI_044048_2018-08-29_2019-08-29_PROBS_v1.tif` and `LANDSAT_OLI_044049_2018-08-29_2019-08-29_PROBS_v1.tif`). Each raster has 3 layers containing scaled probabilities (`x 10,000`) corresponding to the classes `Crop` (layer 1), `Natural Vegetation` (layer 2), and `Pasture` (layer 3)."
   ]
  },
  {
   "cell_type": "markdown",
   "id": "seventh-gilbert",
   "metadata": {},
   "source": [
    "## <span style=\"color: #336699\">Generating the Thematic Map</span>\n",
    "<hr style=\"border:0.5px solid #0077b9;\">"
   ]
  },
  {
   "cell_type": "markdown",
   "id": "bizarre-faith",
   "metadata": {},
   "source": [
    "We are going to apply a probability Bayesian smoother method over the output of the MLP. This procedure uses the information of a pixel’s neighborhood to update its probabilities by taking the maximum likelihood estimator. The smoothing procedure removes isolated pixel class values and produces more homogeneous spatial areas.\n",
    "\n",
    "The next cell perform this operation:"
   ]
  },
  {
   "cell_type": "code",
   "execution_count": null,
   "id": "circular-services",
   "metadata": {},
   "outputs": [],
   "source": [
    "probs_smoothed <- sits_smooth(\n",
    "    cube       = probs, \n",
    "    type       = \"bayes\",\n",
    "    memsize    = classification_memsize,\n",
    "    multicores = classification_multicores,\n",
    "    output_dir = output_dir\n",
    ")"
   ]
  },
  {
   "cell_type": "markdown",
   "id": "fuzzy-atlantic",
   "metadata": {},
   "source": [
    "After that, to generate the thematic maps the most probable class is taken as the pixel class. Each class is represented by the codes 1 (Crop), 2 (Natural Vegetation), and 3 (Pasture). The next cell show how to perform this step:"
   ]
  },
  {
   "cell_type": "code",
   "execution_count": null,
   "id": "after-harvey",
   "metadata": {},
   "outputs": [],
   "source": [
    "labels <- sits_label_classification(\n",
    "    cube = probs_smoothed,\n",
    "    memsize    = classification_memsize,\n",
    "    multicores = classification_multicores,\n",
    "    output_dir = output_dir\n",
    ")"
   ]
  },
  {
   "cell_type": "markdown",
   "id": "isolated-renaissance",
   "metadata": {},
   "source": [
    "## <span style=\"color: #336699\">Visualizing the Thematic Map</span>\n",
    "<hr style=\"border:0.5px solid #0077b9;\">"
   ]
  },
  {
   "cell_type": "markdown",
   "id": "unavailable-location",
   "metadata": {},
   "source": [
    "Finally, let's plot the resulted map:"
   ]
  },
  {
   "cell_type": "code",
   "execution_count": null,
   "id": "attended-married",
   "metadata": {},
   "outputs": [],
   "source": [
    "plot(labels)"
   ]
  }
 ],
 "metadata": {
  "kernelspec": {
   "display_name": "R",
   "language": "R",
   "name": "ir"
  },
  "language_info": {
   "codemirror_mode": "r",
   "file_extension": ".r",
   "mimetype": "text/x-r-source",
   "name": "R",
   "pygments_lexer": "r",
   "version": "4.2.1"
  }
 },
 "nbformat": 4,
 "nbformat_minor": 5
}
