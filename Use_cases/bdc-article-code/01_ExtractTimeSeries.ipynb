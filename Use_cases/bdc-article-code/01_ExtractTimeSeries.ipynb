{
 "cells": [
  {
   "cell_type": "markdown",
   "id": "blank-seeker",
   "metadata": {},
   "source": [
    "<img src=\"https://raw.githubusercontent.com/brazil-data-cube/code-gallery/master/img/logo-bdc.png\" align=\"right\" width=\"64\"/>\n",
    "\n",
    "# <span style=\"color: #336699\">Land use and land cover classification in the Brazilian Cerrado biome using Brazil Data Cube</span>\n",
    "<hr style=\"border:2px solid #0077b9;\">\n",
    "\n",
    "<br/>\n",
    "\n",
    "<div style=\"text-align: center;font-size: 90%;\">\n",
    "    Rolf E. O. Simões <sup><a href=\"mailto:rolf.simoes@inpe.br\"><i class=\"far fa-lg fa-envelope\"></i></a> <a href=\"https://orcid.org/0000-0003-0953-4132\"><i class=\"fab fa-lg fa-orcid\" style=\"color: #a6ce39\"></i></a></sup>, Alber H. Sanchez <sup><a href=\"mailto:alber.ipia@inpe.br\"><i class=\"far fa-lg fa-envelope\"></i></a> <a href=\"https://orcid.org/0000-0001-7966-2880\"><i class=\"fab fa-lg fa-orcid\" style=\"color: #a6ce39\"></i></a></sup>, Felipe M. Carlos <sup><a href=\"mailto:felipe.carlos@inpe.br\"><i class=\"far fa-lg fa-envelope\"></i></a> <a href=\"https://orcid.org/0000-0002-3334-4315\"><i class=\"fab fa-lg fa-orcid\" style=\"color: #a6ce39\"></i></a></sup>, Leonardo S. Vieira <sup><a href=\"mailto:leonardo.vieira@inpe.br\"><i class=\"far fa-lg fa-envelope\"></i></a> <a href=\"https://orcid.org/0000-0002-3397-6232\"><i class=\"fab fa-lg fa-orcid\" style=\"color: #a6ce39\"></i></a></sup>,<br/>\n",
    "    Karine R. Ferreira <sup><a href=\"mailto:karine.ferreira@inpe.br\"><i class=\"far fa-lg fa-envelope\"></i></a> <a href=\"https://orcid.org/0000-0003-2656-5504\"><i class=\"fab fa-lg fa-orcid\" style=\"color: #a6ce39\"></i></a></sup>, Lubia Vinhas <sup><a href=\"mailto:lubia.vinhas@inpe.br\"><i class=\"far fa-lg fa-envelope\"></i></a> <a href=\"https://orcid.org/0000-0003-1104-3607\"><i class=\"fab fa-lg fa-orcid\" style=\"color: #a6ce39\"></i></a></sup>, Gilberto R. Queiroz<sup>* <a href=\"mailto:gilberto.queiroz@inpe.br\"><i class=\"far fa-lg fa-envelope\"></i></a> <a href=\"https://orcid.org/0000-0001-7534-0219\"><i class=\"fab fa-lg fa-orcid\" style=\"color: #a6ce39\"></i></a></sup>\n",
    "    <br/><br/>\n",
    "    Earth Observation and Geoinformatics Division, National Institute for Space Research (INPE)\n",
    "    <br/>\n",
    "    Avenida dos Astronautas, 1758, Jardim da Granja, São José dos Campos, SP 12227-010, Brazil\n",
    "    <br/><br/>\n",
    "    <sup>*</sup> Author to whom correspondence should be addressed.\n",
    "    <br/><br/>\n",
    "    July 20, 2022\n",
    "</div>\n",
    "\n",
    "<br/>\n",
    "\n",
    "<div style=\"text-align: justify;  margin-left: 10%; margin-right: 10%;\">\n",
    "<b>Abstract.</b> This Jupyter Notebook compendium contains useful information for the creation of land use and land cover (LULC) maps using Earth observations data cubes and machine learning (ML) techniques. The code is based on the research pipeline described in the paper <em>Earth Observation Data Cubes for Brazil: Requirements, Methodology and Products</em>. These notebooks access open data available in the Brazil Data Cube platform.\n",
    "</div>    \n",
    "\n",
    "<br/>\n",
    "<div style=\"text-align: justify;  margin-left: 15%; margin-right: 15%;font-size: 75%; border-style: solid; border-color: #0077b9; border-width: 1px; padding: 5px;\">\n",
    "    <b>This Jupyter Notebook is supplement to the <a href=\"https://www.mdpi.com/2072-4292/12/24/4033/htm#sec5-remotesensing-12-04033\" target=\"_blank\">Section 5</a> of the following paper:</b>\n",
    "    <div style=\"margin-left: 10px; margin-right: 10px\">\n",
    "    Ferreira, K.R.; Queiroz, G.R.; Vinhas, L.; Marujo, R.F.B.; Simoes, R.E.O.; Picoli, M.C.A.; Camara, G.; Cartaxo, R.; Gomes, V.C.F.; Santos, L.A.; Sanchez, A.H.; Arcanjo, J.S.; Fronza, J.G.; Noronha, C.A.; Costa, R.W.; Zaglia, M.C.; Zioti, F.; Korting, T.S.; Soares, A.R.; Chaves, M.E.D.; Fonseca, L.M.G. 2020. Earth Observation Data Cubes for Brazil: Requirements, Methodology and Products. Remote Sens. 12, no. 24: 4033. DOI: <a href=\"https://doi.org/10.3390/rs12244033\" target=\"_blank\">10.3390/rs12244033</a>.\n",
    "    </div>\n",
    "</div>"
   ]
  },
  {
   "cell_type": "markdown",
   "id": "incoming-stock",
   "metadata": {},
   "source": [
    "# <span style=\"color: #336699\">Extracting time series from sample locations</span>\n",
    "<hr style=\"border:1px solid #0077b9;\">\n",
    "\n",
    "This document describes the process of extracting time series from EO data cubes associated with LULC samples. This information is required during the creation and training of the model based on a MultiLayer Perceptron neural network described later in the notebooks related to the classification process.\n",
    "\n",
    "In general, at this stage, as shown in the Figure 1, for each sample, a temporal spectral signature is associated considering different bands and vegetation indices. This allows each sample's labels to be linked to a specific temporal variation pattern, which is used by the algorithms for classification."
   ]
  },
  {
   "cell_type": "markdown",
   "id": "thorough-superior",
   "metadata": {},
   "source": [
    "<div align=\"center\">\n",
    "  <img src=\"https://raw.githubusercontent.com/brazil-data-cube/code-gallery/master/img/bdc-article/land-trajectory.png\" width=\"600px\">\n",
    "</div>\n",
    "<br/>\n",
    "<center><b>Figure 1</b> - Temporal patterns based on spectral signature.<br/><b>Source:</b> Victor Maus</center>"
   ]
  },
  {
   "cell_type": "markdown",
   "id": "decreased-franchise",
   "metadata": {},
   "source": [
    "# <span style=\"color: #336699\">The SITS R package</span>\n",
    "<hr style=\"border:1px solid #0077b9;\">\n",
    "\n",
    "\n",
    "For the time series extraction process we use the [SITS R package](https://github.com/e-sensing/sits).It can be loaded with the `library` command:"
   ]
  },
  {
   "cell_type": "code",
   "execution_count": null,
   "id": "classified-brake",
   "metadata": {},
   "outputs": [],
   "source": [
    "library(sits)"
   ]
  },
  {
   "cell_type": "markdown",
   "id": "determined-bidding",
   "metadata": {},
   "source": [
    "The access to the Brazil Data Cube (BDC) data products requires an **access key**. If you have an account for the Brazil Data Cube services, [sign in](https://brazildatacube.dpi.inpe.br/auth-app) and replace the key value in the code cell below. If you do not have an account, [sign up](https://brazildatacube.dpi.inpe.br/auth-app) to create an account and get the access key."
   ]
  },
  {
   "cell_type": "code",
   "execution_count": null,
   "id": "dress-publication",
   "metadata": {},
   "outputs": [],
   "source": [
    "MY_ACCESS_KEY <- \"change-me\"\n",
    "\n",
    "Sys.setenv(BDC_ACCESS_KEY = MY_ACCESS_KEY)"
   ]
  },
  {
   "cell_type": "markdown",
   "id": "indirect-apartment",
   "metadata": {},
   "source": [
    "## <span style=\"color: #336699\">Crop Calendar</span>\n",
    "<hr style=\"border:0.5px solid #0077b9;\">\n",
    "\n",
    "We use the region's agricultural calendar year that ranges from September 2018 to August 2019:"
   ]
  },
  {
   "cell_type": "code",
   "execution_count": null,
   "id": "tight-heritage",
   "metadata": {
    "tags": [
     "parameters"
    ]
   },
   "outputs": [],
   "source": [
    "start_date  <- \"2018-09-01\"\n",
    "end_date    <- \"2019-08-31\""
   ]
  },
  {
   "cell_type": "markdown",
   "id": "052c235a-579c-46b3-98ea-d4e1f07bd10f",
   "metadata": {},
   "source": [
    "## <span style=\"color: #336699\">Region of Interest</span>\n",
    "<hr style=\"border:0.5px solid #0077b9;\">\n",
    "\n",
    "We will use roi to filter the tiles that intersect the points we are going to extract"
   ]
  },
  {
   "cell_type": "code",
   "execution_count": null,
   "id": "9cdb0dff-19c6-437c-a1e4-af3adae0f0ec",
   "metadata": {},
   "outputs": [],
   "source": [
    "roi <- readRDS(url(\"https://brazildatacube.dpi.inpe.br/geo-knowledge-hub/bdc-article/roi/roi.rds\"))"
   ]
  },
  {
   "cell_type": "code",
   "execution_count": null,
   "id": "6312c0d0-345d-49d0-929b-5b0876b606a0",
   "metadata": {},
   "outputs": [],
   "source": [
    "roi_bbox <- sf::st_bbox(roi[[\"classification_roi\"]])"
   ]
  },
  {
   "cell_type": "markdown",
   "id": "dedicated-induction",
   "metadata": {},
   "source": [
    "## <span style=\"color: #336699\">Sample Data Points</span>\n",
    "<hr style=\"border:0.5px solid #0077b9;\">"
   ]
  },
  {
   "cell_type": "markdown",
   "id": "reflected-cooking",
   "metadata": {},
   "source": [
    "The sample set that will be used to train the MLP model described in the manuscript contains 922 data points organized into three classes:\n",
    "\n",
    "* Crop (242)\n",
    "* Natural Vegetation (422)\n",
    "* Pasture (258)\n",
    "\n",
    "The file `training-samples.csv` in the folder `training-samples` contains the labeled data points."
   ]
  },
  {
   "cell_type": "code",
   "execution_count": null,
   "id": "architectural-frontier",
   "metadata": {},
   "outputs": [],
   "source": [
    "sample_file <- \"https://brazildatacube.dpi.inpe.br/geo-knowledge-hub/bdc-article/training-samples/training-samples.csv\""
   ]
  },
  {
   "cell_type": "markdown",
   "id": "suited-patrick",
   "metadata": {},
   "source": [
    "As one can see, this file contains the location (`latitude`/`longitude`), a timestamp (`start_date`/`end_date`) and a label:"
   ]
  },
  {
   "cell_type": "code",
   "execution_count": null,
   "id": "about-roots",
   "metadata": {},
   "outputs": [],
   "source": [
    "head(read.csv(sample_file))"
   ]
  },
  {
   "cell_type": "markdown",
   "id": "applicable-prediction",
   "metadata": {},
   "source": [
    "The SITS package contains some facilities to read the location of these samples and to extract the time series from data cubes. This process will result in a dataframe where each sample point is associated to time series from spectral bands and vegetation indices."
   ]
  },
  {
   "cell_type": "markdown",
   "id": "characteristic-ranch",
   "metadata": {},
   "source": [
    "## <span style=\"color: #336699\">Creating the Output Directory</span>\n",
    "<hr style=\"border:0.5px solid #0077b9;\">"
   ]
  },
  {
   "cell_type": "markdown",
   "id": "proved-dayton",
   "metadata": {},
   "source": [
    "Let's create an output folder for the datasets generated by this notebook. We are going to choose a folder named `training-samples`:"
   ]
  },
  {
   "cell_type": "code",
   "execution_count": null,
   "id": "composite-vertex",
   "metadata": {},
   "outputs": [],
   "source": [
    "output_dir <- \"training-samples\"\n",
    "\n",
    "dir.create(\n",
    "    path         = output_dir, \n",
    "    showWarnings = FALSE, \n",
    "    recursive    = TRUE\n",
    ")"
   ]
  },
  {
   "cell_type": "markdown",
   "id": "loving-wright",
   "metadata": {},
   "source": [
    "## <span style=\"color: #336699\">Time Series Extraction</span>\n",
    "<hr style=\"border:0.5px solid #0077b9;\">"
   ]
  },
  {
   "cell_type": "markdown",
   "id": "joined-blackjack",
   "metadata": {},
   "source": [
    "### <span style=\"color: #336699\">CBERS-4/AWFI (16 days 'stack')</span>"
   ]
  },
  {
   "cell_type": "markdown",
   "id": "piano-relations",
   "metadata": {},
   "source": [
    "The `sits_cube` function can be used to define the working data cube and the interest spectral bands and vegetation indices:"
   ]
  },
  {
   "cell_type": "code",
   "execution_count": null,
   "id": "southwest-bishop",
   "metadata": {},
   "outputs": [],
   "source": [
    "cb4_cube <- sits_cube(\n",
    "    source      = \"BDC\",\n",
    "    collection  = \"CB4_64_16D_STK-1\",\n",
    "    start_date  = start_date,\n",
    "    end_date    = end_date,\n",
    "    bands       = c(\"B15\", \"B14\", \"B13\", \"B16\", \"NDVI\", \"EVI\"),\n",
    "    roi         = roi_bbox\n",
    ")"
   ]
  },
  {
   "cell_type": "markdown",
   "id": "mounted-cargo",
   "metadata": {},
   "source": [
    "In the above cell we provided the following arguments\n",
    "\n",
    "* `source`: Inform that the data cube will be based on the Brazil Data Cube definitions.\n",
    "\n",
    "* `collection`: Defines the use of CBERS-4/AWFI data cube.\n",
    "\n",
    "* `start_date` and `end_date`: The temporal interval of interest.\n",
    "\n",
    "* `bands`: The list of spectral bands and spectral indices that will be accessed.\n",
    "\n",
    "The `sits_get_data` retries the time series from the defined data cube `cb4_cube` using the locations in the sample file:"
   ]
  },
  {
   "cell_type": "code",
   "execution_count": null,
   "id": "outside-check",
   "metadata": {},
   "outputs": [],
   "source": [
    "cb4_samples_with_ts <- sits_get_data(cube = cb4_cube, samples = sample_file)"
   ]
  },
  {
   "cell_type": "markdown",
   "id": "introductory-classroom",
   "metadata": {},
   "source": [
    "The structure of the returned dataframe can be seen below:"
   ]
  },
  {
   "cell_type": "code",
   "execution_count": null,
   "id": "exact-shell",
   "metadata": {},
   "outputs": [],
   "source": [
    "head(cb4_samples_with_ts, 2)"
   ]
  },
  {
   "cell_type": "markdown",
   "id": "super-material",
   "metadata": {},
   "source": [
    "If you want to plot the NDVI time series for all the LULC classes, use the following `plot` function:"
   ]
  },
  {
   "cell_type": "code",
   "execution_count": null,
   "id": "forbidden-contrast",
   "metadata": {},
   "outputs": [],
   "source": [
    "plot(sits_select(cb4_samples_with_ts, bands = c(\"NDVI\")))"
   ]
  },
  {
   "cell_type": "markdown",
   "id": "durable-design",
   "metadata": {},
   "source": [
    "If you are interested only in a single class:"
   ]
  },
  {
   "cell_type": "code",
   "execution_count": null,
   "id": "existing-bunny",
   "metadata": {},
   "outputs": [],
   "source": [
    "plot(sits_select(cb4_samples_with_ts[cb4_samples_with_ts$label == \"Pasture\",], bands = c(\"NDVI\")))"
   ]
  },
  {
   "cell_type": "markdown",
   "id": "needed-fiction",
   "metadata": {},
   "source": [
    "Finally, let's save the dataframe with the samples and time series in a file named `CB4_64_16D_STK_1.rds`. We are going to use it later on the classification notebook."
   ]
  },
  {
   "cell_type": "code",
   "execution_count": null,
   "id": "gross-progress",
   "metadata": {},
   "outputs": [],
   "source": [
    "saveRDS(cb4_samples_with_ts, paste0(output_dir, \"/CB4_64_16D_STK_1.rds\"))"
   ]
  },
  {
   "cell_type": "markdown",
   "id": "metric-wrist",
   "metadata": {},
   "source": [
    "### <span style=\"color: #336699\">Landsat-8/OLI (16 days 'stack')</span>\n",
    "\n",
    "The following code cells repeat the process described on the previous section to the Landsat-8 data cube."
   ]
  },
  {
   "cell_type": "code",
   "execution_count": null,
   "id": "progressive-civilization",
   "metadata": {},
   "outputs": [],
   "source": [
    "l8_cube <- sits_cube(\n",
    "    source      = \"BDC\",\n",
    "    collection  = \"LC8_30_16D_STK-1\",\n",
    "    start_date  = start_date,\n",
    "    end_date    = end_date,\n",
    "    bands       = c(\"B4\", \"B3\", \"B2\", \"B5\", \"NDVI\", \"EVI\"),\n",
    "    roi         = roi_bbox\n",
    ")"
   ]
  },
  {
   "cell_type": "code",
   "execution_count": null,
   "id": "plastic-island",
   "metadata": {},
   "outputs": [],
   "source": [
    "l8_samples_with_ts <- sits_get_data(cube = l8_cube, samples = sample_file)\n",
    "\n",
    "saveRDS(l8_samples_with_ts, paste0(output_dir, \"/LC8_30_16D_STK_1.rds\"))"
   ]
  },
  {
   "cell_type": "markdown",
   "id": "equal-shepherd",
   "metadata": {},
   "source": [
    "### <span style=\"color: #336699\">Sentinel-2/MSI (16 days 'stack')</span>\n",
    "\n",
    "The following code cells repeat the process described on the CBERS-4/AWFI data cube section to the Sentinel-2 data cube."
   ]
  },
  {
   "cell_type": "code",
   "execution_count": null,
   "id": "sporting-thesis",
   "metadata": {},
   "outputs": [],
   "source": [
    "s2_cube <- sits_cube(\n",
    "    source      = \"BDC\",\n",
    "    collection  = \"S2-SEN2COR_10_16D_STK-1\",\n",
    "    start_date  = start_date,\n",
    "    end_date    = end_date,\n",
    "    bands       = c(\"B04\", \"B03\", \"B02\", \"B08\", \"NDVI\", \"EVI\"),\n",
    "    roi         = roi_bbox\n",
    ")"
   ]
  },
  {
   "cell_type": "code",
   "execution_count": null,
   "id": "wooden-winner",
   "metadata": {},
   "outputs": [],
   "source": [
    "s2_samples_with_ts <- sits_get_data(cube = s2_cube, samples = sample_file)\n",
    "\n",
    "saveRDS(s2_samples_with_ts, paste0(output_dir, \"/S2_10_16D_STK_1.rds\"))"
   ]
  },
  {
   "cell_type": "markdown",
   "id": "human-spending",
   "metadata": {},
   "source": [
    "# <span style=\"color: #336699\">Final Remarks</span>\n",
    "<hr style=\"border:1px solid #0077b9;\">\n",
    "\n",
    "* A copy of the training samples with the time series for each satellite/sensor data cube can be found in the folder `training-samples/rds`.\n",
    "\n",
    "* If you want to download and run this notebook in a workflow as a script, you can perform its parameterization through the [papermill library](https://github.com/nteract/papermill).\n",
    "\n",
    "* The data cubes used to extract the time series are also available on [BDC-STAC](https://brazildatacube.dpi.inpe.br/stac/)."
   ]
  }
 ],
 "metadata": {
  "kernelspec": {
   "display_name": "R",
   "language": "R",
   "name": "ir"
  },
  "language_info": {
   "codemirror_mode": "r",
   "file_extension": ".r",
   "mimetype": "text/x-r-source",
   "name": "R",
   "pygments_lexer": "r",
   "version": "4.2.1"
  }
 },
 "nbformat": 4,
 "nbformat_minor": 5
}
