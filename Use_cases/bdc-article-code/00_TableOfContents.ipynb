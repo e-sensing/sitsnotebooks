{
 "cells": [
  {
   "cell_type": "markdown",
   "id": "junior-trading",
   "metadata": {},
   "source": [
    "<img src=\"https://raw.githubusercontent.com/brazil-data-cube/code-gallery/master/img/logo-bdc.png\" align=\"right\" width=\"64\"/>\n",
    "\n",
    "# <span style=\"color: #336699\">Land use and land cover classification in the Brazilian Cerrado biome using Brazil Data Cube</span>\n",
    "<hr style=\"border:2px solid #0077b9;\">\n",
    "\n",
    "<br/>\n",
    "\n",
    "<div style=\"text-align: center;font-size: 90%;\">\n",
    "    Rolf E. O. Simões <sup><a href=\"mailto:rolf.simoes@inpe.br\"><i class=\"far fa-lg fa-envelope\"></i></a> <a href=\"https://orcid.org/0000-0003-0953-4132\"><i class=\"fab fa-lg fa-orcid\" style=\"color: #a6ce39\"></i></a></sup>, Alber H. Sanchez <sup><a href=\"mailto:alber.ipia@inpe.br\"><i class=\"far fa-lg fa-envelope\"></i></a> <a href=\"https://orcid.org/0000-0001-7966-2880\"><i class=\"fab fa-lg fa-orcid\" style=\"color: #a6ce39\"></i></a></sup>, Felipe M. Carlos <sup><a href=\"mailto:felipe.carlos@inpe.br\"><i class=\"far fa-lg fa-envelope\"></i></a> <a href=\"https://orcid.org/0000-0002-3334-4315\"><i class=\"fab fa-lg fa-orcid\" style=\"color: #a6ce39\"></i></a></sup>, Leonardo S. Vieira <sup><a href=\"mailto:leonardo.vieira@inpe.br\"><i class=\"far fa-lg fa-envelope\"></i></a> <a href=\"https://orcid.org/0000-0002-3397-6232\"><i class=\"fab fa-lg fa-orcid\" style=\"color: #a6ce39\"></i></a></sup>,<br/>\n",
    "    Karine R. Ferreira <sup><a href=\"mailto:karine.ferreira@inpe.br\"><i class=\"far fa-lg fa-envelope\"></i></a> <a href=\"https://orcid.org/0000-0003-2656-5504\"><i class=\"fab fa-lg fa-orcid\" style=\"color: #a6ce39\"></i></a></sup>, Lubia Vinhas <sup><a href=\"mailto:lubia.vinhas@inpe.br\"><i class=\"far fa-lg fa-envelope\"></i></a> <a href=\"https://orcid.org/0000-0003-1104-3607\"><i class=\"fab fa-lg fa-orcid\" style=\"color: #a6ce39\"></i></a></sup>, Gilberto R. Queiroz<sup>* <a href=\"mailto:gilberto.queiroz@inpe.br\"><i class=\"far fa-lg fa-envelope\"></i></a> <a href=\"https://orcid.org/0000-0001-7534-0219\"><i class=\"fab fa-lg fa-orcid\" style=\"color: #a6ce39\"></i></a></sup>\n",
    "    <br/><br/>\n",
    "    Earth Observation and Geoinformatics Division, National Institute for Space Research (INPE)\n",
    "    <br/>\n",
    "    Avenida dos Astronautas, 1758, Jardim da Granja, São José dos Campos, SP 12227-010, Brazil\n",
    "    <br/><br/>\n",
    "    <sup>*</sup> Author to whom correspondence should be addressed.\n",
    "    <br/><br/>\n",
    "    July 20, 2022\n",
    "</div>\n",
    "\n",
    "<br/>\n",
    "\n",
    "<div style=\"text-align: justify;  margin-left: 10%; margin-right: 10%;\">\n",
    "<b>Abstract.</b> This Jupyter Notebook compendium contains useful information for the creation of land use and land cover (LULC) maps using Earth observations data cubes and machine learning (ML) techniques. The code is based on the research pipeline described in the paper <em>Earth Observation Data Cubes for Brazil: Requirements, Methodology and Products</em>. These notebooks access open data available in the Brazil Data Cube platform.\n",
    "</div>    \n",
    "\n",
    "<br/>\n",
    "<div style=\"text-align: justify;  margin-left: 15%; margin-right: 15%;font-size: 75%; border-style: solid; border-color: #0077b9; border-width: 1px; padding: 5px;\">\n",
    "    <b>This Jupyter Notebook is supplement to the <a href=\"https://www.mdpi.com/2072-4292/12/24/4033/htm#sec5-remotesensing-12-04033\" target=\"_blank\">Section 5</a> of the following paper:</b>\n",
    "    <div style=\"margin-left: 10px; margin-right: 10px\">\n",
    "    Ferreira, K.R.; Queiroz, G.R.; Vinhas, L.; Marujo, R.F.B.; Simoes, R.E.O.; Picoli, M.C.A.; Camara, G.; Cartaxo, R.; Gomes, V.C.F.; Santos, L.A.; Sanchez, A.H.; Arcanjo, J.S.; Fronza, J.G.; Noronha, C.A.; Costa, R.W.; Zaglia, M.C.; Zioti, F.; Korting, T.S.; Soares, A.R.; Chaves, M.E.D.; Fonseca, L.M.G. 2020. Earth Observation Data Cubes for Brazil: Requirements, Methodology and Products. Remote Sens. 12, no. 24: 4033. DOI: <a href=\"https://doi.org/10.3390/rs12244033\" target=\"_blank\">10.3390/rs12244033</a>.\n",
    "    </div>\n",
    "</div>"
   ]
  },
  {
   "cell_type": "markdown",
   "id": "antique-equity",
   "metadata": {},
   "source": [
    "# <span style=\"color: #336699\">Table of Contents</span>\n",
    "<hr style=\"border:1px solid #0077b9;\">"
   ]
  },
  {
   "cell_type": "markdown",
   "id": "greater-durham",
   "metadata": {},
   "source": [
    "The Jupyter Notebooks are organized as follow:\n",
    "\n",
    "\n",
    "* [Extracting time series from sample locations](./01_ExtractTimeSeries.ipynb)\n",
    "\n",
    "* [Land Use and Cover Mapping from CBERS-4/AWFI Data Cubes](./02_CB4_64_16D_STK-1.ipynb)\n",
    "\n",
    "* [Validation results for CBERS-4/AWFI classification](./03_Validation_CB4_64_16D_STK-1.ipynb)\n",
    "\n",
    "* [Land Use and Cover Mapping from Landsat-8/OLI Data Cubes](./04_LC8_30_16D_STK-1.ipynb)\n",
    "\n",
    "* [Validation results for Landsat-8/OLI classification](./05_Validation_LC8_30_16D_STK-1.ipynb)\n",
    "\n",
    "* [Land Use and Cover Mapping from Sentinel-2/MSI Data Cubes](./06_S2_10_16D_STK-1.ipynb)\n",
    "\n",
    "* [Validation results for Sentinel-2/MSI classification](./07_Validation_S2_10_16D_STK-1.ipynb)\n",
    "\n",
    "\n",
    "Interest readers should try the notebooks in the proposed order as their contents are complementary."
   ]
  },
  {
   "cell_type": "markdown",
   "id": "welcome-samoa",
   "metadata": {},
   "source": [
    "# <span style=\"color: #336699\">Study Area</span>\n",
    "<hr style=\"border:1px solid #0077b9;\">"
   ]
  },
  {
   "cell_type": "markdown",
   "id": "relative-affairs",
   "metadata": {},
   "source": [
    "The study area is located in the Bahia state, Brazil, between the Cerrado and Caatinga biomes as depicted in Figure 1.\n",
    "\n",
    "<div align=\"center\">\n",
    "  <img src=\"https://raw.githubusercontent.com/brazil-data-cube/code-gallery/master/img/bdc-article/study-area.png\" width=\"600px\">\n",
    "</div>\n",
    "<center><b>Figure 1</b> - Study area in relation to Brazil and its biomes.</center>\n",
    "\n",
    "The code cell below shows the study area location in relation to Brazil:"
   ]
  },
  {
   "cell_type": "code",
   "execution_count": null,
   "id": "tracked-society",
   "metadata": {},
   "outputs": [],
   "source": [
    "library(leaflet)\n",
    "\n",
    "#\n",
    "# load sample and roi layers\n",
    "#\n",
    "region_of_interest <- sf::st_read(\"/vsicurl/https://brazildatacube.dpi.inpe.br/geo-knowledge-hub/bdc-article/roi/shp/roi.shp\", quiet = TRUE)\n",
    "training_samples <- sf::st_read(\"/vsicurl/https://brazildatacube.dpi.inpe.br/public/bdc-article/training-samples/shp/bdc_paper_samples.shp\", quiet = TRUE)\n",
    "\n",
    "#\n",
    "# create a color map\n",
    "#\n",
    "factpal <- colorFactor(\n",
    "    palette = c(\"#e18e18\", \"#4ad060\", \"#fcfe7b\"),\n",
    "    domain = c(\"Crop\", \"Natural\", \"Pasture\")\n",
    ")\n",
    "\n",
    "#\n",
    "# create the map\n",
    "#\n",
    "leaflet::leaflet(width=\"100%\", height=\"600px\") %>%\n",
    "   addProviderTiles(providers$Esri.WorldImagery) %>%\n",
    "   setView(lng = -45.5, lat = -12.8, zoom = 9) %>%\n",
    "   addPolygons(data = region_of_interest) %>%\n",
    "    \n",
    "   addCircleMarkers(data   = training_samples, \n",
    "                    popup  = ~label,\n",
    "                    color  = ~factpal(label),\n",
    "                    radius = 4, \n",
    "                    stroke = FALSE, \n",
    "                    fillOpacity = 1) %>%\n",
    "    \n",
    "    addLegend(\"topright\", \n",
    "              pal     = factpal, \n",
    "              values  = training_samples$label,\n",
    "              title   = \"Training Samples\", \n",
    "              opacity = 1)\n"
   ]
  },
  {
   "cell_type": "markdown",
   "id": "front-titanium",
   "metadata": {},
   "source": [
    "# <span style=\"color: #336699\">Auxiliary Data</span>\n",
    "<hr style=\"border:1px solid #0077b9;\">\n",
    "\n",
    "All the datasets used in this application along with the results are available from the web in the following URL:\n",
    "\n",
    "* https://brazildatacube.dpi.inpe.br/geo-knowledge-hub/bdc-article/\n",
    "\n",
    "\n",
    "The folders are organized as follows:\n",
    "\n",
    "* `results`: This directory contains the set of thematic maps resulting from the classification process. For each satellite/sensor there is a subdirectory with two GeoTIFFs, one with the estimated probabilities of each LULC class, and the other with the final class.\n",
    "\n",
    "* `roi`: This directory contains the polygon representing the region of interest (the envelope of the validation samples in Figure 1).\n",
    "\n",
    "* `scripts`: R scripts with the application pipeline.\n",
    "\n",
    "* `training-samples`: This directory contains the sample set used for training the Multilayer Perceptron (MLP) model used in the application. The original sample points are available in CSV and ESRI Shapefile formats. The RDS files contain the time series for each sample point along with some spectral bands and vegetation indices.\n",
    "\n",
    "* `validation-samples`: This directory contains the sample set used to validate the classified maps.\n"
   ]
  }
 ],
 "metadata": {
  "kernelspec": {
   "display_name": "R",
   "language": "R",
   "name": "ir"
  },
  "language_info": {
   "codemirror_mode": "r",
   "file_extension": ".r",
   "mimetype": "text/x-r-source",
   "name": "R",
   "pygments_lexer": "r",
   "version": "4.2.1"
  }
 },
 "nbformat": 4,
 "nbformat_minor": 5
}
