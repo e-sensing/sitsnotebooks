{
 "cells": [
  {
   "cell_type": "markdown",
   "metadata": {},
   "source": [
    "<img src=\"https://raw.githubusercontent.com/brazil-data-cube/code-gallery/master/img/logo-bdc.png\" align=\"right\" width=\"64\" style=\"margin-top: 10px;\" />\n",
    "\n",
    "<h1 style=\"color:#336699; font-weight: normal; margin-top: 0;\">Classificação de Áreas Agrícolas no Oeste da Bahia</h1>\n",
    "<hr style=\"border: 2px solid #0077b9; margin-top: 5px; margin-bottom: 20px;\" />\n",
    "\n",
    "<br/>\n",
    "\n",
    "<div style=\"text-align: center; font-size: 90%; color: #333;\">\n",
    "    Felipe Carlos<sup><a href=\"https://orcid.org/0000-0001-7534-0219\" target=\"_blank\">\n",
    "    <i class=\"fab fa-lg fa-orcid\" style=\"color: #a6ce39;\"></i></a></sup>, \n",
    "    Felipe Souza<sup><a href=\"https://orcid.org/0000-0002-5826-1700\" target=\"_blank\">\n",
    "    <i class=\"fab fa-lg fa-orcid\" style=\"color: #a6ce39;\"></i></a></sup>, \n",
    "    Gilberto Camara<sup><a href=\"https://orcid.org/0000-0001-7534-0219\" target=\"_blank\">\n",
    "        <i class=\"fab fa-lg fa-orcid\" style=\"color: #a6ce39;\"></i></a></sup>\n",
    "    Pedro Brito<sup><a href=\"https://orcid.org/0000-0002-9937-1105\" target=\"_blank\">\n",
    "        <i class=\"fab fa-lg fa-orcid\" style=\"color: #a6ce39;\"></i></a></sup>, \n",
    "    Rolf Simoes<sup><a href=\"https://orcid.org/0000-0003-0953-4132\" target=\"_blank\">\n",
    "        <i class=\"fab fa-lg fa-orcid\" style=\"color: #a6ce39;\"></i></a></sup>, \n",
    "    <br/><br/>\n",
    "    Divisão de Geoinformática e Observação da Terra, Instituto Nacional de Pesquisas Espaciais (INPE)\n",
    "    <br/>\n",
    "    Avenida dos Astronautas, 1758, Jardim da Granja, São José dos Campos, SP 12227-010, Brazil\n",
    "    <br/><br/>\n",
    "    Contatos: <a href=\"mailto:efelipecarlos@gmail.com\">efelipecarlos@gmail.com</a>, <a href=\"mailto:lipecaso@gmail.com\">lipecaso@gmail.com</a>\n",
    "</div>\n",
    "\n",
    "<br/>\n",
    "\n",
    "<div style=\"text-align: justify; margin-left: 15%; margin-right: 15%;\">\n",
    "    <b>Resumo</b><br>\n",
    "    <code>sits</code> é um software de código aberto voltado a análise de séries temporais de imagens de satélite. Este notebook apresenta as principais funcionalidades do <code>sits</code>, partindo da criação de um cubo de dados até a geração de um mapa de classificação de uso e cobertura da terra. \n",
    "\n",
    "</div>    \n",
    "\n",
    "<br/>\n",
    "\n",
    "<div style=\"text-align: justify; margin-left: 15%; margin-right: 15%; font-size: 90%; border: 1px solid #0077b9; border-radius: 6px; padding: 10px;\">\n",
    "    <b>Para um aprofudamento e  discussão completa sobre o <code>sits</code>, consulte o livro em: </b><a href=\"https://e-sensing.github.io/sitsbook/\" target=\"_blank\">Satellite Image Time Series Book</a>.\n",
    "</div>\n"
   ]
  },
  {
   "cell_type": "markdown",
   "metadata": {},
   "source": [
    "## Ambiente\n",
    "<hr style=\"border:1px solid #0077b9;\">\n",
    "\n",
    "Esta seção configura o ambiente de execução deste notebook. As configurações apresentadas não são requisitos do `sits`, mas sim do ambiente utilizado no minicurso."
   ]
  },
  {
   "cell_type": "markdown",
   "metadata": {},
   "source": [
    "Instalação da nova versão do `sits`:"
   ]
  },
  {
   "cell_type": "code",
   "execution_count": null,
   "metadata": {},
   "outputs": [],
   "source": [
    "sitsdir <- '~/sitslib'; dir.create(sitsdir, showWarnings = FALSE); .libPaths( c( sitsdir, .libPaths()) )\n",
    "\n",
    "suppressWarnings(suppressMessages(devtools::install_cran(\"sits\", dependencies = FALSE, destdir = sitsdir)))\n",
    "suppressWarnings(suppressMessages(devtools::install_cran(\"tmap\", dependencies = FALSE, destdir = sitsdir)))\n",
    "suppressWarnings(suppressMessages(devtools::install_cran(\"randomForestExplainer\", dependencies = FALSE, destdir = sitsdir)))"
   ]
  },
  {
   "cell_type": "markdown",
   "metadata": {},
   "source": [
    "Configuração das dimensões dos plots:"
   ]
  },
  {
   "cell_type": "code",
   "execution_count": null,
   "metadata": {},
   "outputs": [],
   "source": [
    "options(repr.plot.width = 12, repr.plot.height = 12)"
   ]
  },
  {
   "cell_type": "markdown",
   "metadata": {},
   "source": [
    "## Workflow\n",
    "<hr style=\"border:1px solid #0077b9;\">\n",
    "\n",
    "O pacote `sits` disponibiliza funções simples que possibilitam uma rápida criação de mapas de uso e cobertura da terra. **Apenas 6 funções** são necessárias para fazer uma classificação. Essas funções são apresentadas abaixo: "
   ]
  },
  {
   "cell_type": "markdown",
   "metadata": {},
   "source": [
    "<div style=\"display: flex; align-items: center; background-color: #fdfdfd; border: 1px solid #ccc; border-left: 5px solid #1f70b8; border-radius: 8px; padding: 15px 20px; box-shadow: 0 1px 3px rgba(0, 0, 0, 0.05); margin-top: 10px\">\n",
    "  <div style=\"flex: 1; font-size: 15px; color: #333;\">\n",
    "    <strong><code>sits_cube()</code></strong><br>\n",
    "    <p style='margin-top: 5px'>\n",
    "   Essa é a primeira função executada no sits. Ela realiza a criação de um cubo de dados de imagens de satélites.\n",
    "    </p>\n",
    "  </div>\n",
    "  <div style=\"margin-left: auto;\">\n",
    "    <img src=\"https://github.com/e-sensing/sitsnotebooks/blob/main/SBSR_2025/images/operations/cube.png?raw=true\" alt=\"cube icon\" style=\"width: 100px; object-fit: contain;\" />\n",
    "  </div>\n",
    "</div>"
   ]
  },
  {
   "cell_type": "markdown",
   "metadata": {},
   "source": [
    "<p style=\"text-align: center; font-size: 24px; margin: -10px 0 -10px 0; padding: 10px\">⇩</p>"
   ]
  },
  {
   "cell_type": "markdown",
   "metadata": {},
   "source": [
    "<div style=\"display: flex; align-items: center; background-color: #fdfdfd; border: 1px solid #ccc; border-left: 5px solid #1f70b8; border-radius: 8px; padding: 15px 20px; box-shadow: 0 1px 3px rgba(0, 0, 0, 0.05);\">\n",
    "\n",
    "  <div style=\"flex: 1; font-size: 15px; color: #333;\">\n",
    "    <strong><code>sits_get_data()</code></strong><br>\n",
    "      <p style='margin-top: 5px'>\n",
    "    Essa funcão realiza a extração das séries temporais de um cubo de dados a partir de amostras de uso e cobertura da terra.\n",
    "    </p>\n",
    "  \n",
    "  </div>\n",
    "\n",
    "  <div style=\"margin-left: auto;\">\n",
    "    <img src=\"https://github.com/e-sensing/sitsnotebooks/blob/main/SBSR_2025/images/operations/time-series.png?raw=true\" alt=\"time-series icon\" style=\"width: 120px; object-fit: contain;\" />\n",
    "  </div>\n",
    "</div>"
   ]
  },
  {
   "cell_type": "markdown",
   "metadata": {},
   "source": [
    "<p style=\"text-align: center; font-size: 24px; margin: -10px 0 -10px 0; padding: 10px\">⇩</p>"
   ]
  },
  {
   "cell_type": "markdown",
   "metadata": {},
   "source": [
    "<div style=\"display: flex; align-items: center; background-color: #fdfdfd; border: 1px solid #ccc; border-left: 5px solid #1f70b8; border-radius: 8px; padding: 15px 20px; box-shadow: 0 1px 3px rgba(0, 0, 0, 0.05);\">\n",
    "  <div style=\"flex: 1; font-size: 15px; color: #333;\">\n",
    "    <strong><code>sits_train()</code></strong><br>\n",
    "<p style='margin-top: 5px'>\n",
    "   Essa função faz o treinamento de um algoritmo de classifição com base nas séries temporais que foram associadas as amostras.\n",
    "    </p>\n",
    "  </div>\n",
    "  <div style=\"margin-left: auto;\">\n",
    "    <img src=\"https://github.com/e-sensing/sitsnotebooks/blob/main/SBSR_2025/images/operations/ml-model.png?raw=true\" alt=\"ml model icon\" style=\"width: 120px; object-fit: contain;\" />\n",
    "  </div>\n",
    "</div>"
   ]
  },
  {
   "cell_type": "markdown",
   "metadata": {},
   "source": [
    "<p style=\"text-align: center; font-size: 24px; margin: -10px 0 -10px 0; padding: 10px\">⇩</p>"
   ]
  },
  {
   "cell_type": "markdown",
   "metadata": {},
   "source": [
    "<div style=\"display: flex; align-items: center; background-color: #fdfdfd; border: 1px solid #ccc; border-left: 5px solid #1f70b8; border-radius: 8px; padding: 15px 20px; box-shadow: 0 1px 3px rgba(0, 0, 0, 0.05);\">\n",
    "  <div style=\"flex: 1; font-size: 15px; color: #333;\">\n",
    "    <strong><code>sits_classify()</code></strong><br>\n",
    "    Essa função classifica as séries temporais de um cubo a partir de um modelo treinado.\n",
    "  </div>\n",
    "  <div style=\"margin-left: auto;\">\n",
    "    <img src=\"https://github.com/e-sensing/sitsnotebooks/blob/main/SBSR_2025/images/operations/probs.png?raw=true\" alt=\"probs icon\" style=\"width: 90px; object-fit: contain;\" />\n",
    "  </div>\n",
    "</div>"
   ]
  },
  {
   "cell_type": "markdown",
   "metadata": {},
   "source": [
    "<p style=\"text-align: center; font-size: 24px; margin: -10px 0 -10px 0; padding: 10px\">⇩</p>"
   ]
  },
  {
   "attachments": {},
   "cell_type": "markdown",
   "metadata": {},
   "source": [
    "<div style=\"display: flex; align-items: center; background-color: #fdfdfd; border: 1px solid #ccc; border-left: 5px solid #1f70b8; border-radius: 8px; padding: 15px 20px; box-shadow: 0 1px 3px rgba(0, 0, 0, 0.05);\">\n",
    "  <div style=\"flex: 1; font-size: 15px; color: #333;\">\n",
    "    <strong><code>sits_smooth()</code></strong><br>\n",
    "    Essa função suaviza as probabilidades, melhorando a consistência espacial.\n",
    "  </div>\n",
    "  <div style=\"margin-left: auto;\">\n",
    "    <img src=\"https://github.com/e-sensing/sitsnotebooks/blob/main/SBSR_2025/images/operations/probs.png?raw=true\" alt=\"probs icon\" style=\"width: 90px; object-fit: contain;\" />\n",
    "  </div>\n",
    "</div>"
   ]
  },
  {
   "cell_type": "markdown",
   "metadata": {},
   "source": [
    "<p style=\"text-align: center; font-size: 24px; margin: -10px 0 -10px 0; padding: 10px\">⇩</p>"
   ]
  },
  {
   "cell_type": "markdown",
   "metadata": {},
   "source": [
    "<div style=\"display: flex; align-items: center; background-color: #fdfdfd; border: 1px solid #ccc; border-left: 5px solid #1f70b8; border-radius: 8px; padding: 15px 20px; box-shadow: 0 1px 3px rgba(0, 0, 0, 0.05);\">\n",
    "  <div style=\"flex: 1; font-size: 15px; color: #333;\">\n",
    "    <strong><code>sits_label_classification()</code></strong><br>\n",
    "    Essa função adiciona rótulos com base nas probabilidades geradas anteriormente.\n",
    "  </div>\n",
    "  <div style=\"margin-left: auto;\">\n",
    "    <img src=\"https://github.com/e-sensing/sitsnotebooks/blob/main/SBSR_2025/images/operations/labels.png?raw=true\" alt=\"labels icon\" style=\"width: 100px; object-fit: contain;\" />\n",
    "  </div>\n",
    "</div>"
   ]
  },
  {
   "cell_type": "markdown",
   "metadata": {},
   "source": [
    "Além dessas funções, diversas outras estão disponíveis no `sits`, servindo como funcionalidades auxiliares ao fluxo principal apresentado acima."
   ]
  },
  {
   "cell_type": "markdown",
   "metadata": {},
   "source": [
    "## Inicialização\n",
    "<hr style=\"border:1px solid #0077b9;\">\n",
    "\n",
    "Para começar o uso do `sits`, execute o seguinte comando:"
   ]
  },
  {
   "cell_type": "code",
   "execution_count": null,
   "metadata": {},
   "outputs": [],
   "source": [
    "library(sits)"
   ]
  },
  {
   "cell_type": "markdown",
   "metadata": {},
   "source": [
    "## Cubos de dados com sits\n",
    "<hr style=\"border:1px solid #0077b9;\">\n",
    "\n",
    "Atualmente, há uma grande variedade de dados de Observação da Terra disponíveis por meio de diferentes provedores. O pacote `sits` oferece funções simples que permitem criar cubos de dados a partir dessas fontes, incluindo **B**razil **D**ata **C**ube (BDC), **A**mazon **W**eb **S**ervices (AWS), **M**icrosoft **P**lanetary **C**omputer (MPC), entre outros.\n",
    "\n",
    "A figura abaixo ilustra como a função `sits_cube()` pode ser utilizada para criar um cubo de dados a partir de diferentes provedores:"
   ]
  },
  {
   "cell_type": "markdown",
   "metadata": {},
   "source": [
    "<div style=\"text-align: center\">\n",
    "    <img src=\"https://github.com/e-sensing/sitsnotebooks/blob/main/SBSR_2025/images/workflow/workflow-step-1.png?raw=true\" alt=\"labels icon\" style=\"width: 80%\"/>\n",
    "</div>"
   ]
  },
  {
   "cell_type": "markdown",
   "metadata": {},
   "source": [
    "### Carregando cubos de dados do Brazil Data Cube (INPE)"
   ]
  },
  {
   "cell_type": "markdown",
   "metadata": {},
   "source": [
    "Os cubos do BDC podem ser carregados com a função `sits_cube()`:"
   ]
  },
  {
   "cell_type": "code",
   "execution_count": null,
   "metadata": {},
   "outputs": [],
   "source": [
    "cube <- sits_cube(\n",
    "    source     = \"BDC\",\n",
    "    collection = \"SENTINEL-2-16D\",\n",
    "    tiles      = \"030019\",\n",
    "    start_date = \"2019-10-01\",\n",
    "    end_date   = \"2020-09-30\",\n",
    "    bands      = c(\"B02\", \"B03\", \"B04\", \"B8A\", \"B11\", \"NDVI\", \"CLOUD\")\n",
    ")"
   ]
  },
  {
   "cell_type": "code",
   "execution_count": null,
   "metadata": {},
   "outputs": [],
   "source": [
    "print(cube)"
   ]
  },
  {
   "cell_type": "markdown",
   "metadata": {},
   "source": [
    "<details style=\"border: 1px solid #ccc; border-left: 5px solid #1f70b8; border-radius: 8px; padding: 10px 15px; background-color: #fdfdfd; margin-top: 10px; box-shadow: 0 1px 3px rgba(0,0,0,0.05); color: #333;\">\n",
    "  <summary style=\"font-weight: bold; cursor: pointer; outline: none;\"> 🔍 Mais opções para filtragem de dados</summary>\n",
    "\n",
    "  ### Filtro temporal\n",
    "\n",
    "  Caso queira carregar um cubo de dados com imagens de um período temporal diferente, é possível alterar os parâmetros `start_date` e `end_date` da função `sits_cube()`. Abaixo, são apresentados alguns exemplos:\n",
    "\n",
    "  #### Cubo com dados de 2018\n",
    "\n",
    "  ```R\n",
    "    cube <- sits_cube(\n",
    "        # Provedor\n",
    "        source = \"BDC\",\n",
    "    \n",
    "        # Coleção\n",
    "        collection = \"SENTINEL-2-16D\",\n",
    "        \n",
    "        # Extensão espacial\n",
    "        tiles = \"030019\",\n",
    "    \n",
    "        # Extensão temporal\n",
    "        start_date = \"2018-01-01\",\n",
    "        end_date = \"2018-09-30\"\n",
    "    )\n",
    "  ```\n",
    "\n",
    "  #### Cubo com dados de 2022\n",
    "\n",
    "  ```R\n",
    "    cube <- sits_cube(\n",
    "        # Provedor\n",
    "        source = \"BDC\",\n",
    "    \n",
    "        # Coleção\n",
    "        collection = \"SENTINEL-2-16D\",\n",
    "        \n",
    "        # Extensão espacial\n",
    "        tiles = \"030019\",\n",
    "    \n",
    "        # Extensão temporal\n",
    "        start_date = \"2022-01-01\",\n",
    "        end_date = \"2022-09-30\"\n",
    "    )\n",
    "  ```\n",
    "\n",
    "  ### Filtro espacial\n",
    "\n",
    "  O `sits` também disponibiliza multiplas formas de selectionar a região de interesse. No exemplo acima, foi mostrado o uso do argumento `tiles`, que especifica o tile BDC desejado. Além desse argumento, também é possível utilizar o `roi`. Esse parâmetro permite especificar a região de interesse por meio um shapefile, bbox ou outros formatos.\n",
    "\n",
    "  Abaixo, são apresentados diversos exemplos de como esse parâmetro pode ser utilizado:\n",
    "\n",
    "  #### Utilização do ROI com shapefile\n",
    "\n",
    "  ```R\n",
    "    cube <- sits_cube(\n",
    "        # Provedor\n",
    "        source = \"BDC\",\n",
    "    \n",
    "        # Coleção\n",
    "        collection = \"SENTINEL-2-16D\",\n",
    "        \n",
    "        # Extensão espacial\n",
    "        roi = \"/caminho/até/o/shapefile\",\n",
    "    \n",
    "        # Extensão temporal\n",
    "        start_date = \"2022-01-01\",\n",
    "        end_date = \"2022-09-30\"\n",
    "    )\n",
    "  ```\n",
    "\n",
    "  #### Utilização do ROI com objeto sf\n",
    "\n",
    "  ```R\n",
    "    sf_object <- sf::...\n",
    "\n",
    "\n",
    "    cube <- sits_cube(\n",
    "        # Provedor\n",
    "        source = \"BDC\",\n",
    "    \n",
    "        # Coleção\n",
    "        collection = \"SENTINEL-2-16D\",\n",
    "        \n",
    "        # Extensão espacial\n",
    "        roi = sf_object,\n",
    "    \n",
    "        # Extensão temporal\n",
    "        start_date = \"2022-01-01\",\n",
    "        end_date = \"2022-09-30\"\n",
    "    )\n",
    "  ```\n",
    "</details>"
   ]
  },
  {
   "cell_type": "markdown",
   "metadata": {},
   "source": [
    "<div style=\"border: 1px solid #ccc; border-left: 5px solid #1f70b8; border-radius: 8px; background-color: #fdfdfd; padding: 15px 20px; font-size: 15px; color: #333; line-height: 1.5; box-shadow: 0 1px 3px rgba(0, 0, 0, 0.05);\">\n",
    "  Para mais informações sobre os provedores de dados suportados pelo <code>sits</code>, consulte o capítulo \n",
    "  <a href=\"https://e-sensing.github.io/sitsbook/earth-observation-data-cubes.html\" target=\"_blank\" style=\"color: #1f70b8; text-decoration: none;\">\n",
    "    Earth Observation Data Cubes\n",
    "  </a> do livro oficial do <code>sits</code>.\n",
    "</div>"
   ]
  },
  {
   "cell_type": "markdown",
   "metadata": {},
   "source": [
    "### Explorando características do cubo \n",
    "<hr style=\"border:1px solid #0077b9;\">"
   ]
  },
  {
   "cell_type": "code",
   "execution_count": null,
   "metadata": {},
   "outputs": [],
   "source": [
    "sits_timeline(cube)"
   ]
  },
  {
   "cell_type": "code",
   "execution_count": null,
   "metadata": {},
   "outputs": [],
   "source": [
    "sits_bands(cube)"
   ]
  },
  {
   "cell_type": "markdown",
   "metadata": {},
   "source": [
    "<details style=\"border: 1px solid #ccc; border-left: 5px solid #1f70b8; border-radius: 8px; padding: 10px 15px; background-color: #fdfdfd; box-shadow: 0 1px 3px rgba(0,0,0,0.05); color: #333;\">\n",
    "  <summary style=\"font-weight: bold; cursor: pointer; outline: none;\"> 🔍 Mais sobre multiplas bandas em cubos</summary>\n",
    "\n",
    "  <p style=\"margin-top: 5px\">\n",
    "      Ao criar um cubo, o <code>sits</code> carrega automaticamente todas as datas disponíveis para as bandas selecionadas, facilitando o uso dos dados. A figura abaixo ilustra como um cubo com as bandas <code>RED</code>, <code>GREEN</code> e <code>BLUE</code> é materializado.\n",
    "  </p>\n",
    "\n",
    "  <div style=\"text-align: center\">\n",
    "    <img src=\"https://github.com/e-sensing/sitsnotebooks/blob/main/SBSR_2025/images/concepts/cube-structure.png?raw=true\" alt=\"extract time series view\" style=\"width: 80%\"/>\n",
    " </div>\n",
    "</details>"
   ]
  },
  {
   "cell_type": "markdown",
   "metadata": {},
   "source": [
    "### Visualizando o cubo\n",
    "<hr style=\"border:1px solid #0077b9;\">"
   ]
  },
  {
   "cell_type": "code",
   "execution_count": null,
   "metadata": {},
   "outputs": [],
   "source": [
    "# Plot the cube\n",
    "plot(cube, date = \"2019-09-30\", red = \"B11\", green = \"B8A\", blue = \"B02\")"
   ]
  },
  {
   "cell_type": "markdown",
   "metadata": {},
   "source": [
    "<details style=\"border: 1px solid #ccc; border-left: 5px solid #1f70b8; border-radius: 8px; padding: 10px 15px; margin: 20px 0; background-color: #fdfdfd; box-shadow: 0 1px 3px rgba(0,0,0,0.05); color: #333;\">\n",
    "  <summary style=\"font-weight: bold; cursor: pointer; outline: none;\"> 📊 Mais opções de visualização</summary>\n",
    "\n",
    "  ### Mais detalhes no `plot()`\n",
    "  O `sits` permite adicionar mais informações no plot, como especificar uma data com o argumento `date` e selecionar bandas específicas com o argumento `band`:\n",
    "  \n",
    "  ```R\n",
    "  plot(cube, band = \"NDVI\", date = \"2020-07-11\")\n",
    "  ```\n",
    "</details>"
   ]
  },
  {
   "cell_type": "markdown",
   "metadata": {},
   "source": [
    "## Extração de séries temporais do cubo\n",
    "<hr style=\"border:1px solid #0077b9;\">"
   ]
  },
  {
   "cell_type": "markdown",
   "metadata": {},
   "source": [
    "Com o cubo criado, é possível extrair séries temporais associadas a amostras de uso e cobertura da terra. Essa operação permite associar o comportamento espectro-temporal às amostras rotuladas.\n",
    "\n",
    "A figura abaixo ilustra como esse processo pode ser realizado com a função `sits_get_data()`:"
   ]
  },
  {
   "cell_type": "markdown",
   "metadata": {},
   "source": [
    "<div style=\"text-align: center\">\n",
    "    <img src=\"https://github.com/e-sensing/sitsnotebooks/blob/main/SBSR_2025/images/workflow/workflow-step-2.png?raw=true\" alt=\"extract time series operation\" style=\"width: 80%\"/>\n",
    "</div>"
   ]
  },
  {
   "cell_type": "markdown",
   "metadata": {},
   "source": [
    "### Extraíndo séries temporais de amostras no oeste da Bahia\n",
    "<hr style=\"border:1px solid #0077b9;\">"
   ]
  },
  {
   "cell_type": "markdown",
   "metadata": {},
   "source": [
    "Carrega as amostras:"
   ]
  },
  {
   "cell_type": "code",
   "execution_count": null,
   "metadata": {},
   "outputs": [],
   "source": [
    "samples <- sf::st_read(\"https://github.com/e-sensing/sitsnotebooks/raw/refs/heads/main/SBSR_2025/data/raw/samples/LEM_samples.gpkg\")"
   ]
  },
  {
   "cell_type": "code",
   "execution_count": null,
   "metadata": {},
   "outputs": [],
   "source": [
    "print(head(samples))"
   ]
  },
  {
   "cell_type": "markdown",
   "metadata": {},
   "source": [
    "Vamos carregar também as cores associadas a cada uma dos rótulos."
   ]
  },
  {
   "cell_type": "code",
   "execution_count": null,
   "metadata": {},
   "outputs": [],
   "source": [
    "color_table <- readRDS(url(\"https://github.com/e-sensing/sitsnotebooks/raw/refs/heads/main/SBSR_2025/data/raw/colors/colors_lem.rds\"))"
   ]
  },
  {
   "cell_type": "markdown",
   "metadata": {},
   "source": [
    "A função `sits_colors_set` é utilizada para indicar para o `sits` quais cores devem ser utilizadas para cada uma dos rótulos disponíveis no conjunto de amostras."
   ]
  },
  {
   "cell_type": "code",
   "execution_count": null,
   "metadata": {},
   "outputs": [],
   "source": [
    "sits_colors_set(colors = color_table, legend = \"LEM\")"
   ]
  },
  {
   "cell_type": "markdown",
   "metadata": {},
   "source": [
    "Visualiza as amostras:"
   ]
  },
  {
   "cell_type": "code",
   "execution_count": null,
   "metadata": {},
   "outputs": [],
   "source": [
    "sits_view(samples)"
   ]
  },
  {
   "cell_type": "markdown",
   "metadata": {},
   "source": [
    "Extrai as séries temporais:"
   ]
  },
  {
   "cell_type": "code",
   "execution_count": null,
   "metadata": {},
   "outputs": [],
   "source": [
    "samples_ts <- sits_get_data(\n",
    "    cube       = cube,\n",
    "    samples    = samples,\n",
    "    multicores = 8\n",
    ")\n",
    "\n",
    "# Em caso de problemas de conexão, utilize o seguinte comando:\n",
    "# samples_ts <- readRDS(url(\"https://github.com/e-sensing/sitsnotebooks/raw/refs/heads/main/SBSR_2025/data/derived/samples/LEM-samples-ts.rds\"))"
   ]
  },
  {
   "cell_type": "markdown",
   "metadata": {},
   "source": [
    "<details style=\"border: 1px solid #ccc; border-left: 5px solid #1f70b8; border-radius: 8px; padding: 10px 15px; background-color: #fdfdfd; box-shadow: 0 1px 3px rgba(0,0,0,0.05); color: #333;\">\n",
    "  <summary style=\"font-weight: bold; cursor: pointer; outline: none;\"> 🔍 Visualize a extração da série temporal</summary>\n",
    "\n",
    "  <div style=\"text-align: center; margin-top: 10px\">\n",
    "    <img src=\"https://github.com/e-sensing/sitsnotebooks/blob/main/SBSR_2025/images/concepts/timeseries-extraction.png?raw=true\" alt=\"extract time series view\" style=\"width: 80%\"/>\n",
    " </div>\n",
    "</details>"
   ]
  },
  {
   "cell_type": "markdown",
   "metadata": {},
   "source": [
    "<details style=\"border: 1px solid #ccc; border-left: 5px solid #1f70b8; border-radius: 8px; padding: 10px 15px; background-color: #fdfdfd; box-shadow: 0 1px 3px rgba(0,0,0,0.05); color: #333;\">\n",
    "  <summary style=\"font-weight: bold; cursor: pointer; outline: none;\"> 📈 Mais opções de extração</summary>\n",
    "\n",
    "  ### Extração de séries temporais com polígonos\n",
    "  A função `sits_get_data()` suporta o uso de pontos e polígonos. Para polígonos, é possível definir a quantidade de pontos que serão extraídos de cada polígono usando o parâmetro `n_sam_pol`.\n",
    "\n",
    "    \n",
    "  ```R\n",
    "  samples_ts <- sits_get_data(\n",
    "    # Cubo de dados que será usado para extração\n",
    "    cube = cube,\n",
    "\n",
    "    # Amostras usadas para a extração\n",
    "    samples = samples,\n",
    "\n",
    "    # Número de pontos que serão extraídos em cada polígonos\n",
    "    n_sam_pol = 10,\n",
    "\n",
    "    # Número de processos usados para otimizar a extração \n",
    "    multicores = 2\n",
    "  )\n",
    "```\n",
    "\n",
    "  Além disso, é possível sumarizar todos os pontos extraídos de um polígono a partir da média usando o parâmetro `pol_avg`. A partir da versão `1.5.3` do `sits` não é mais necessário informar o parâmetro `pol_id` para usar essa funcionalidade. \n",
    "\n",
    "  ```R\n",
    "  samples_ts <- sits_get_data(\n",
    "    # Cubo de dados que será usado para extração\n",
    "    cube = cube,\n",
    "\n",
    "    # Amostras usadas para a extração\n",
    "    samples = samples,\n",
    "\n",
    "    # Número de pontos que serão extraídos em cada polígonos\n",
    "    n_sam_pol = 10,\n",
    "\n",
    "    # Sumariza os pontos de um polígono aplicando a média\n",
    "    pol_avg = TRUE,\n",
    "\n",
    "    # Número de processos usados para otimizar a extraação \n",
    "    multicores = 2\n",
    "  )\n",
    "```\n",
    "</details>"
   ]
  },
  {
   "cell_type": "markdown",
   "metadata": {},
   "source": [
    "### Explorando características das séries temporais \n",
    "<hr style=\"border:1px solid #0077b9;\">"
   ]
  },
  {
   "cell_type": "code",
   "execution_count": null,
   "metadata": {},
   "outputs": [],
   "source": [
    "sits_bands(samples_ts)"
   ]
  },
  {
   "cell_type": "code",
   "execution_count": null,
   "metadata": {},
   "outputs": [],
   "source": [
    "sits_timeline(samples_ts)"
   ]
  },
  {
   "cell_type": "code",
   "execution_count": null,
   "metadata": {},
   "outputs": [],
   "source": [
    "summary(samples_ts)"
   ]
  },
  {
   "cell_type": "markdown",
   "metadata": {},
   "source": [
    "<div style=\"border: 1px solid #ccc; border-left: 5px solid #1f70b8; border-radius: 8px; background-color: #fdfdfd; padding: 15px 20px; margin: 20px 0; font-size: 15px; color: #333; line-height: 1.5; box-shadow: 0 1px 3px rgba(0, 0, 0, 0.05);\">\n",
    "  O pacote <code>sits</code> fornece funções para auxiliar na avaliação da qualidade das amostras, consulte o capítulo \n",
    "  <a href=\"https://e-sensing.github.io/sitsbook/improving-the-quality-of-training-samples.html\" target=\"_blank\" style=\"color: #1f70b8; text-decoration: none;\">\n",
    "    Improving the Quality of Training Samples\n",
    "  </a> do livro oficial do <code>sits</code>.\n",
    "</div>"
   ]
  },
  {
   "cell_type": "markdown",
   "metadata": {},
   "source": [
    "#### Visualizando padrões temporais \n",
    "<hr style=\"border:1px solid #0077b9;\">"
   ]
  },
  {
   "cell_type": "markdown",
   "metadata": {},
   "source": [
    "Seleciona uma banda específica do cubo:"
   ]
  },
  {
   "cell_type": "code",
   "execution_count": null,
   "metadata": {},
   "outputs": [],
   "source": [
    "samples_indexes <- sits_select(samples_ts, bands = \"NDVI\")"
   ]
  },
  {
   "cell_type": "markdown",
   "metadata": {},
   "source": [
    "Calcula os padrões temporais:"
   ]
  },
  {
   "cell_type": "code",
   "execution_count": null,
   "metadata": {},
   "outputs": [],
   "source": [
    "patterns <- sits_patterns(samples_indexes) "
   ]
  },
  {
   "cell_type": "markdown",
   "metadata": {},
   "source": [
    "Visualização dos padrões temporais:"
   ]
  },
  {
   "cell_type": "code",
   "execution_count": null,
   "metadata": {},
   "outputs": [],
   "source": [
    "plot(patterns)"
   ]
  },
  {
   "cell_type": "markdown",
   "metadata": {},
   "source": [
    "<details style=\"border: 1px solid #ccc; border-left: 5px solid #1f70b8; border-radius: 8px; padding: 10px 15px; background-color: #fdfdfd; box-shadow: 0 1px 3px rgba(0,0,0,0.05); color: #333;\">\n",
    "  <summary style=\"font-weight: bold; cursor: pointer; outline: none;\"> 🔍 Mais sobre seleção em séries temporais</summary>\n",
    "\n",
    "  <p style=\"margin-top: 5px\">\n",
    "      A função <code>sits_select</code> permite selecionar bandas e datas das séries temporais. Os exemplos abaixo mostram como essa operação pode ser utilizada:\n",
    "  </p>\n",
    "\n",
    "  #### Selecionando datas\n",
    "\n",
    "  ```R\n",
    "  sits_select(\n",
    "    samples_ts,\n",
    "    start_date = \"2019-12-03\",\n",
    "    end_date = \"2020-01-17\"\n",
    "  )\n",
    "  ```\n",
    "\n",
    "  #### Selecionando bandas\n",
    "\n",
    "  ```R\n",
    "  sits_select(\n",
    "      samples_ts,\n",
    "      bands = c(\"B8A\", \"NDVI\")\n",
    "  )\n",
    "  ```\n",
    "   \n",
    "   <br/>\n",
    "   \n",
    "  **Nota**: A função `sits_select` também pode ser utilizada em cubos de dados.\n",
    "</details>"
   ]
  },
  {
   "cell_type": "markdown",
   "metadata": {},
   "source": [
    "## Treinando o modelo de classificação\n",
    "<hr style=\"border:1px solid #0077b9;\">"
   ]
  },
  {
   "cell_type": "markdown",
   "metadata": {},
   "source": [
    "Com base nas amostras extraídas, é possível treinar um algoritmo de classificação. Nesse processo, o modelo aprende a associar as amostras aos padrões espectro-temporais.\n",
    "\n",
    "O treinamento no `sits` é feito com a função `sits_train`. O fluxo abaixo apresenta a utilização desta função:"
   ]
  },
  {
   "cell_type": "markdown",
   "metadata": {},
   "source": [
    "<div style=\"text-align: center\">\n",
    "    <img src=\"https://github.com/e-sensing/sitsnotebooks/blob/main/SBSR_2025/images/workflow/workflow-step-3.png?raw=true\" alt=\"classification model training\" style=\"width: 85%\"/>\n",
    "</div>"
   ]
  },
  {
   "cell_type": "markdown",
   "metadata": {},
   "source": [
    "### Treinando modelo para amostras no oeste da Bahia\n",
    "<hr style=\"border:1px solid #0077b9;\">\n",
    "\n",
    "Com as amostras extraídas do cubo, faremos o treinamento de um modelo `Random Forest`:"
   ]
  },
  {
   "cell_type": "code",
   "execution_count": null,
   "metadata": {},
   "outputs": [],
   "source": [
    "rfor_model <- sits_train(\n",
    "  samples   = samples_ts,\n",
    "  ml_method = sits_rfor()\n",
    ")"
   ]
  },
  {
   "cell_type": "markdown",
   "metadata": {},
   "source": [
    "<details style=\"border: 1px solid #ccc; border-left: 5px solid #1f70b8; border-radius: 8px; padding: 10px 15px; background-color: #fdfdfd; box-shadow: 0 1px 3px rgba(0,0,0,0.05); color: #333;\">\n",
    "  <summary style=\"font-weight: bold; cursor: pointer; outline: none;\"> ⚙️ Mais detalhes sobre os modelos de aprendizado de máquina</summary>\n",
    "  \n",
    "  #### Parâmetros adicionais\n",
    "  Cada modelo tem um conjunto de parâmetros adicionais que podem ser fornecidos. Por exemplo, no método Random Forest, podemos definir o número de árvores que serão geradas usando o parâmetro `num_trees`. Cada modelo tem o seu próprio conjunto de parâmetros.  A documentação dos modelos pode ser verificada utilizando `? + nome_da_função`. O `sits` fornece valores de parâmetros por padrão, mas recomendamos fortemente que consulte a documentação dos modelos.\n",
    "    \n",
    "  ```R\n",
    "  rfor_model <- sits_train(\n",
    "    # Amostras que serão usadas para o treinamento \n",
    "    samples = samples_ts,\n",
    "\n",
    "    # Parâmetros adicionais do modelo random forest \n",
    "    ml_method = sits_rfor(num_trees = 50)\n",
    "  )\n",
    "  ```\n",
    "</details>"
   ]
  },
  {
   "cell_type": "markdown",
   "metadata": {},
   "source": [
    "### Explorando características do modelo treinado\n",
    "<hr style=\"border:1px solid #0077b9;\">"
   ]
  },
  {
   "cell_type": "code",
   "execution_count": null,
   "metadata": {},
   "outputs": [],
   "source": [
    "plot(rfor_model)"
   ]
  },
  {
   "cell_type": "markdown",
   "metadata": {},
   "source": [
    "## Classificação do cubo\n",
    "<hr style=\"border:1px solid #0077b9;\">\n",
    "\n",
    "Com o modelo de aprendizado de máquina treinado, podemos gerar um mapa classificado. Para isso, utiliza-se a função `sits_classify`, conforme ilustrado na figura abaixo:"
   ]
  },
  {
   "cell_type": "markdown",
   "metadata": {},
   "source": [
    "<div style=\"text-align: center\">\n",
    "    <img src=\"https://github.com/e-sensing/sitsnotebooks/blob/main/SBSR_2025/images/workflow/workflow-step-4.png?raw=true\" alt=\"cube classification\" style=\"width: 85%\"/>\n",
    "</div>"
   ]
  },
  {
   "cell_type": "markdown",
   "metadata": {},
   "source": [
    "### Classificação de uma região no oeste da Bahia\n",
    "<hr style=\"border:1px solid #0077b9;\">"
   ]
  },
  {
   "cell_type": "markdown",
   "metadata": {},
   "source": [
    "Define uma região de interesse:"
   ]
  },
  {
   "cell_type": "code",
   "execution_count": null,
   "metadata": {},
   "outputs": [],
   "source": [
    "roi <- c(\n",
    "    lon_min = -46.24898,\n",
    "    lat_min = -12.68681,\n",
    "    lon_max = -45.86688,\n",
    "    lat_max = -12.38479 \n",
    ")"
   ]
  },
  {
   "cell_type": "markdown",
   "metadata": {},
   "source": [
    "Gera cubo de probabilidades:"
   ]
  },
  {
   "cell_type": "code",
   "execution_count": null,
   "metadata": {},
   "outputs": [],
   "source": [
    "probs <- sits_classify(\n",
    "    data       = cube,\n",
    "    ml_model   = rfor_model,\n",
    "    multicores = 8,\n",
    "    memsize    = 16,\n",
    "    roi        = roi,\n",
    "    output_dir = \"./\"\n",
    ")"
   ]
  },
  {
   "cell_type": "code",
   "execution_count": null,
   "metadata": {},
   "outputs": [],
   "source": [
    "plot(probs)"
   ]
  },
  {
   "cell_type": "markdown",
   "metadata": {},
   "source": [
    "## Suavização espacial\n",
    "\n",
    "<hr style=\"border:1px solid #0077b9;\">"
   ]
  },
  {
   "cell_type": "markdown",
   "metadata": {},
   "source": [
    "A suavização espacial reduz os ruídos no mapa de probabilidade. No `sits`, a suavização espacial é feita com a função `sits_smooth`, seguindo o fluxo apresentado na figura abaixo:"
   ]
  },
  {
   "cell_type": "markdown",
   "metadata": {},
   "source": [
    "<div style=\"text-align: center\">\n",
    "    <img src=\"https://github.com/e-sensing/sitsnotebooks/blob/main/SBSR_2025/images/workflow/workflow-step-5.png?raw=true\" alt=\"spatial smoothing\" style=\"width: 85%\"/>\n",
    "</div>"
   ]
  },
  {
   "cell_type": "markdown",
   "metadata": {},
   "source": [
    "### Suavização no mapa de classificação no oeste da Bahia\n",
    "<hr style=\"border:1px solid #0077b9;\">"
   ]
  },
  {
   "cell_type": "markdown",
   "metadata": {},
   "source": [
    "Realiza suavização espacial no cubo de probabilidades gerado anteriormente:"
   ]
  },
  {
   "cell_type": "code",
   "execution_count": null,
   "metadata": {},
   "outputs": [],
   "source": [
    "bayes <- sits_smooth(\n",
    "    cube       = probs,\n",
    "    multicores = 8,\n",
    "    memsize    = 16,\n",
    "    output_dir = \"./\",\n",
    "    progress   = TRUE\n",
    ")"
   ]
  },
  {
   "cell_type": "markdown",
   "metadata": {},
   "source": [
    "Visualiza probabilidades suavizadas:"
   ]
  },
  {
   "cell_type": "code",
   "execution_count": null,
   "metadata": {},
   "outputs": [],
   "source": [
    "plot(bayes)"
   ]
  },
  {
   "cell_type": "markdown",
   "metadata": {},
   "source": [
    "## Associando rótulos ao mapa de classificação\n",
    "\n",
    "<hr style=\"border:1px solid #0077b9;\">"
   ]
  },
  {
   "cell_type": "markdown",
   "metadata": {},
   "source": [
    "A associação de rótulos ao mapa de classificação é a etapa final do fluxo principal do `sits`. Nessa fase, são definidas as classes atribuídas a cada *pixel*, como mostrado na figura abaixo:"
   ]
  },
  {
   "cell_type": "markdown",
   "metadata": {},
   "source": [
    "<div style=\"text-align: center\">\n",
    "    <img src=\"https://github.com/e-sensing/sitsnotebooks/blob/main/SBSR_2025/images/workflow/workflow-step-6.png?raw=true\" alt=\"labeling probs map\" style=\"width: 85%\"/>\n",
    "</div>"
   ]
  },
  {
   "cell_type": "markdown",
   "metadata": {},
   "source": [
    "### Associando labels ao mapa da Bahia\n",
    "<hr style=\"border:1px solid #0077b9;\">"
   ]
  },
  {
   "cell_type": "markdown",
   "metadata": {},
   "source": [
    "Associa labels ao mapa final"
   ]
  },
  {
   "cell_type": "code",
   "execution_count": null,
   "metadata": {},
   "outputs": [],
   "source": [
    "class <- sits_label_classification(\n",
    "    cube       = bayes,\n",
    "    multicores = 8,\n",
    "    memsize    = 16,\n",
    "    output_dir = \"./\",\n",
    "    progress   = TRUE\n",
    ")"
   ]
  },
  {
   "cell_type": "code",
   "execution_count": null,
   "metadata": {},
   "outputs": [],
   "source": [
    "plot(class)"
   ]
  },
  {
   "cell_type": "code",
   "execution_count": null,
   "metadata": {},
   "outputs": [],
   "source": [
    "sits_view(class)"
   ]
  }
 ],
 "metadata": {
  "kaggle": {
   "accelerator": "gpu",
   "dataSources": [
    {
     "datasetId": 2236042,
     "sourceId": 6857027,
     "sourceType": "datasetVersion"
    }
   ],
   "isGpuEnabled": true,
   "isInternetEnabled": true,
   "language": "r",
   "sourceType": "notebook"
  },
  "kernelspec": {
   "display_name": "R",
   "language": "R",
   "name": "ir"
  },
  "language_info": {
   "codemirror_mode": "r",
   "file_extension": ".r",
   "mimetype": "text/x-r-source",
   "name": "R",
   "pygments_lexer": "r",
   "version": "4.4.1"
  }
 },
 "nbformat": 4,
 "nbformat_minor": 4
}
